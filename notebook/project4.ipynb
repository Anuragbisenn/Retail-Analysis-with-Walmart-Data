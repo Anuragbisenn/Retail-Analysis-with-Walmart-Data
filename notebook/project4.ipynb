{
  "nbformat": 4,
  "nbformat_minor": 0,
  "metadata": {
    "colab": {
      "name": "project4.ipynb",
      "provenance": [],
      "collapsed_sections": []
    },
    "kernelspec": {
      "name": "python3",
      "display_name": "Python 3"
    },
    "language_info": {
      "name": "python"
    }
  },
  "cells": [
    {
      "cell_type": "markdown",
      "metadata": {
        "id": "clsKx0a6L9Jm"
      },
      "source": [
        "# import requre libraries "
      ]
    },
    {
      "cell_type": "code",
      "metadata": {
        "id": "nbjYj8TANHta"
      },
      "source": [
        "import pandas as pd \n",
        "import numpy as np \n",
        "import matplotlib.pyplot as plt\n",
        "import sklearn \n",
        "import seaborn as sns"
      ],
      "execution_count": 1,
      "outputs": []
    },
    {
      "cell_type": "markdown",
      "metadata": {
        "id": "boNBZ0C_MEj5"
      },
      "source": [
        "###import  dataset into pandas dataframe "
      ]
    },
    {
      "cell_type": "code",
      "metadata": {
        "id": "rRGRsIbwNamB"
      },
      "source": [
        "data=pd.read_csv('/content/drive/MyDrive/simplilearn/python with data science /project4/Walmart_Store_sales.csv')"
      ],
      "execution_count": 2,
      "outputs": []
    },
    {
      "cell_type": "code",
      "metadata": {
        "colab": {
          "base_uri": "https://localhost:8080/",
          "height": 203
        },
        "id": "sJsSzuS7NxAL",
        "outputId": "874675bd-f1cc-4e01-e5c8-4e5906da75f5"
      },
      "source": [
        "data.head()"
      ],
      "execution_count": 3,
      "outputs": [
        {
          "output_type": "execute_result",
          "data": {
            "text/html": [
              "<div>\n",
              "<style scoped>\n",
              "    .dataframe tbody tr th:only-of-type {\n",
              "        vertical-align: middle;\n",
              "    }\n",
              "\n",
              "    .dataframe tbody tr th {\n",
              "        vertical-align: top;\n",
              "    }\n",
              "\n",
              "    .dataframe thead th {\n",
              "        text-align: right;\n",
              "    }\n",
              "</style>\n",
              "<table border=\"1\" class=\"dataframe\">\n",
              "  <thead>\n",
              "    <tr style=\"text-align: right;\">\n",
              "      <th></th>\n",
              "      <th>Store</th>\n",
              "      <th>Date</th>\n",
              "      <th>Weekly_Sales</th>\n",
              "      <th>Holiday_Flag</th>\n",
              "      <th>Temperature</th>\n",
              "      <th>Fuel_Price</th>\n",
              "      <th>CPI</th>\n",
              "      <th>Unemployment</th>\n",
              "    </tr>\n",
              "  </thead>\n",
              "  <tbody>\n",
              "    <tr>\n",
              "      <th>0</th>\n",
              "      <td>1</td>\n",
              "      <td>05-02-2010</td>\n",
              "      <td>1643690.90</td>\n",
              "      <td>0</td>\n",
              "      <td>42.31</td>\n",
              "      <td>2.572</td>\n",
              "      <td>211.096358</td>\n",
              "      <td>8.106</td>\n",
              "    </tr>\n",
              "    <tr>\n",
              "      <th>1</th>\n",
              "      <td>1</td>\n",
              "      <td>12-02-2010</td>\n",
              "      <td>1641957.44</td>\n",
              "      <td>1</td>\n",
              "      <td>38.51</td>\n",
              "      <td>2.548</td>\n",
              "      <td>211.242170</td>\n",
              "      <td>8.106</td>\n",
              "    </tr>\n",
              "    <tr>\n",
              "      <th>2</th>\n",
              "      <td>1</td>\n",
              "      <td>19-02-2010</td>\n",
              "      <td>1611968.17</td>\n",
              "      <td>0</td>\n",
              "      <td>39.93</td>\n",
              "      <td>2.514</td>\n",
              "      <td>211.289143</td>\n",
              "      <td>8.106</td>\n",
              "    </tr>\n",
              "    <tr>\n",
              "      <th>3</th>\n",
              "      <td>1</td>\n",
              "      <td>26-02-2010</td>\n",
              "      <td>1409727.59</td>\n",
              "      <td>0</td>\n",
              "      <td>46.63</td>\n",
              "      <td>2.561</td>\n",
              "      <td>211.319643</td>\n",
              "      <td>8.106</td>\n",
              "    </tr>\n",
              "    <tr>\n",
              "      <th>4</th>\n",
              "      <td>1</td>\n",
              "      <td>05-03-2010</td>\n",
              "      <td>1554806.68</td>\n",
              "      <td>0</td>\n",
              "      <td>46.50</td>\n",
              "      <td>2.625</td>\n",
              "      <td>211.350143</td>\n",
              "      <td>8.106</td>\n",
              "    </tr>\n",
              "  </tbody>\n",
              "</table>\n",
              "</div>"
            ],
            "text/plain": [
              "   Store        Date  Weekly_Sales  ...  Fuel_Price         CPI  Unemployment\n",
              "0      1  05-02-2010    1643690.90  ...       2.572  211.096358         8.106\n",
              "1      1  12-02-2010    1641957.44  ...       2.548  211.242170         8.106\n",
              "2      1  19-02-2010    1611968.17  ...       2.514  211.289143         8.106\n",
              "3      1  26-02-2010    1409727.59  ...       2.561  211.319643         8.106\n",
              "4      1  05-03-2010    1554806.68  ...       2.625  211.350143         8.106\n",
              "\n",
              "[5 rows x 8 columns]"
            ]
          },
          "metadata": {},
          "execution_count": 3
        }
      ]
    },
    {
      "cell_type": "code",
      "metadata": {
        "colab": {
          "base_uri": "https://localhost:8080/",
          "height": 295
        },
        "id": "GKE66-rDNznQ",
        "outputId": "71055c17-503c-4576-cb43-49e3f3ab7d5f"
      },
      "source": [
        "data.describe()"
      ],
      "execution_count": 4,
      "outputs": [
        {
          "output_type": "execute_result",
          "data": {
            "text/html": [
              "<div>\n",
              "<style scoped>\n",
              "    .dataframe tbody tr th:only-of-type {\n",
              "        vertical-align: middle;\n",
              "    }\n",
              "\n",
              "    .dataframe tbody tr th {\n",
              "        vertical-align: top;\n",
              "    }\n",
              "\n",
              "    .dataframe thead th {\n",
              "        text-align: right;\n",
              "    }\n",
              "</style>\n",
              "<table border=\"1\" class=\"dataframe\">\n",
              "  <thead>\n",
              "    <tr style=\"text-align: right;\">\n",
              "      <th></th>\n",
              "      <th>Store</th>\n",
              "      <th>Weekly_Sales</th>\n",
              "      <th>Holiday_Flag</th>\n",
              "      <th>Temperature</th>\n",
              "      <th>Fuel_Price</th>\n",
              "      <th>CPI</th>\n",
              "      <th>Unemployment</th>\n",
              "    </tr>\n",
              "  </thead>\n",
              "  <tbody>\n",
              "    <tr>\n",
              "      <th>count</th>\n",
              "      <td>6435.000000</td>\n",
              "      <td>6.435000e+03</td>\n",
              "      <td>6435.000000</td>\n",
              "      <td>6435.000000</td>\n",
              "      <td>6435.000000</td>\n",
              "      <td>6435.000000</td>\n",
              "      <td>6435.000000</td>\n",
              "    </tr>\n",
              "    <tr>\n",
              "      <th>mean</th>\n",
              "      <td>23.000000</td>\n",
              "      <td>1.046965e+06</td>\n",
              "      <td>0.069930</td>\n",
              "      <td>60.663782</td>\n",
              "      <td>3.358607</td>\n",
              "      <td>171.578394</td>\n",
              "      <td>7.999151</td>\n",
              "    </tr>\n",
              "    <tr>\n",
              "      <th>std</th>\n",
              "      <td>12.988182</td>\n",
              "      <td>5.643666e+05</td>\n",
              "      <td>0.255049</td>\n",
              "      <td>18.444933</td>\n",
              "      <td>0.459020</td>\n",
              "      <td>39.356712</td>\n",
              "      <td>1.875885</td>\n",
              "    </tr>\n",
              "    <tr>\n",
              "      <th>min</th>\n",
              "      <td>1.000000</td>\n",
              "      <td>2.099862e+05</td>\n",
              "      <td>0.000000</td>\n",
              "      <td>-2.060000</td>\n",
              "      <td>2.472000</td>\n",
              "      <td>126.064000</td>\n",
              "      <td>3.879000</td>\n",
              "    </tr>\n",
              "    <tr>\n",
              "      <th>25%</th>\n",
              "      <td>12.000000</td>\n",
              "      <td>5.533501e+05</td>\n",
              "      <td>0.000000</td>\n",
              "      <td>47.460000</td>\n",
              "      <td>2.933000</td>\n",
              "      <td>131.735000</td>\n",
              "      <td>6.891000</td>\n",
              "    </tr>\n",
              "    <tr>\n",
              "      <th>50%</th>\n",
              "      <td>23.000000</td>\n",
              "      <td>9.607460e+05</td>\n",
              "      <td>0.000000</td>\n",
              "      <td>62.670000</td>\n",
              "      <td>3.445000</td>\n",
              "      <td>182.616521</td>\n",
              "      <td>7.874000</td>\n",
              "    </tr>\n",
              "    <tr>\n",
              "      <th>75%</th>\n",
              "      <td>34.000000</td>\n",
              "      <td>1.420159e+06</td>\n",
              "      <td>0.000000</td>\n",
              "      <td>74.940000</td>\n",
              "      <td>3.735000</td>\n",
              "      <td>212.743293</td>\n",
              "      <td>8.622000</td>\n",
              "    </tr>\n",
              "    <tr>\n",
              "      <th>max</th>\n",
              "      <td>45.000000</td>\n",
              "      <td>3.818686e+06</td>\n",
              "      <td>1.000000</td>\n",
              "      <td>100.140000</td>\n",
              "      <td>4.468000</td>\n",
              "      <td>227.232807</td>\n",
              "      <td>14.313000</td>\n",
              "    </tr>\n",
              "  </tbody>\n",
              "</table>\n",
              "</div>"
            ],
            "text/plain": [
              "             Store  Weekly_Sales  ...          CPI  Unemployment\n",
              "count  6435.000000  6.435000e+03  ...  6435.000000   6435.000000\n",
              "mean     23.000000  1.046965e+06  ...   171.578394      7.999151\n",
              "std      12.988182  5.643666e+05  ...    39.356712      1.875885\n",
              "min       1.000000  2.099862e+05  ...   126.064000      3.879000\n",
              "25%      12.000000  5.533501e+05  ...   131.735000      6.891000\n",
              "50%      23.000000  9.607460e+05  ...   182.616521      7.874000\n",
              "75%      34.000000  1.420159e+06  ...   212.743293      8.622000\n",
              "max      45.000000  3.818686e+06  ...   227.232807     14.313000\n",
              "\n",
              "[8 rows x 7 columns]"
            ]
          },
          "metadata": {},
          "execution_count": 4
        }
      ]
    },
    {
      "cell_type": "code",
      "metadata": {
        "colab": {
          "base_uri": "https://localhost:8080/"
        },
        "id": "dsP1_Qblvfdu",
        "outputId": "5890a580-1a54-4ccd-e1c5-e091563953ba"
      },
      "source": [
        "data.shape"
      ],
      "execution_count": 5,
      "outputs": [
        {
          "output_type": "execute_result",
          "data": {
            "text/plain": [
              "(6435, 8)"
            ]
          },
          "metadata": {},
          "execution_count": 5
        }
      ]
    },
    {
      "cell_type": "markdown",
      "metadata": {
        "id": "dNcxZFWNyfKj"
      },
      "source": [
        "**which store has maximum sales**"
      ]
    },
    {
      "cell_type": "code",
      "metadata": {
        "id": "VEA0pbfqvnqm"
      },
      "source": [
        "sales_for_store=data.groupby('Store')['Weekly_Sales'].sum()"
      ],
      "execution_count": 6,
      "outputs": []
    },
    {
      "cell_type": "code",
      "metadata": {
        "colab": {
          "base_uri": "https://localhost:8080/"
        },
        "id": "7XveuOkUw6lX",
        "outputId": "f6bc9378-05f0-49a9-d2dc-101f9da475ba"
      },
      "source": [
        "sales_for_store.head(5)"
      ],
      "execution_count": 7,
      "outputs": [
        {
          "output_type": "execute_result",
          "data": {
            "text/plain": [
              "Store\n",
              "1    2.224028e+08\n",
              "2    2.753824e+08\n",
              "3    5.758674e+07\n",
              "4    2.995440e+08\n",
              "5    4.547569e+07\n",
              "Name: Weekly_Sales, dtype: float64"
            ]
          },
          "metadata": {},
          "execution_count": 7
        }
      ]
    },
    {
      "cell_type": "code",
      "metadata": {
        "colab": {
          "base_uri": "https://localhost:8080/"
        },
        "id": "Hf3-6SLNyxi2",
        "outputId": "8bab125f-690b-4924-817e-bd832560ba14"
      },
      "source": [
        "sales_for_store.max()"
      ],
      "execution_count": 8,
      "outputs": [
        {
          "output_type": "execute_result",
          "data": {
            "text/plain": [
              "301397792.46000004"
            ]
          },
          "metadata": {},
          "execution_count": 8
        }
      ]
    },
    {
      "cell_type": "code",
      "metadata": {
        "colab": {
          "base_uri": "https://localhost:8080/"
        },
        "id": "eRFlkLKKy1xJ",
        "outputId": "47f27694-07ba-4cf2-8ef1-510021d48d8f"
      },
      "source": [
        "sales_for_store.idxmax()"
      ],
      "execution_count": 9,
      "outputs": [
        {
          "output_type": "execute_result",
          "data": {
            "text/plain": [
              "20"
            ]
          },
          "metadata": {},
          "execution_count": 9
        }
      ]
    },
    {
      "cell_type": "code",
      "metadata": {
        "colab": {
          "base_uri": "https://localhost:8080/"
        },
        "id": "M1xV62gUy6Br",
        "outputId": "a7a40982-226c-4282-9c32-874d48e82a3f"
      },
      "source": [
        "sales_for_store[20]"
      ],
      "execution_count": 10,
      "outputs": [
        {
          "output_type": "execute_result",
          "data": {
            "text/plain": [
              "301397792.46000004"
            ]
          },
          "metadata": {},
          "execution_count": 10
        }
      ]
    },
    {
      "cell_type": "markdown",
      "metadata": {
        "id": "zkCZy6Nw1ex2"
      },
      "source": [
        "**which state has maximum variation in statnderd deviation**"
      ]
    },
    {
      "cell_type": "code",
      "metadata": {
        "id": "MqdWCNPy1rBI"
      },
      "source": [
        "max_std=data.groupby('Store')['Weekly_Sales'].std()"
      ],
      "execution_count": 11,
      "outputs": []
    },
    {
      "cell_type": "code",
      "metadata": {
        "colab": {
          "base_uri": "https://localhost:8080/"
        },
        "id": "dwt4hHw22Dm9",
        "outputId": "998bb9bd-3836-403a-efeb-c201f572253b"
      },
      "source": [
        "max_std"
      ],
      "execution_count": 12,
      "outputs": [
        {
          "output_type": "execute_result",
          "data": {
            "text/plain": [
              "Store\n",
              "1     155980.767761\n",
              "2     237683.694682\n",
              "3      46319.631557\n",
              "4     266201.442297\n",
              "5      37737.965745\n",
              "6     212525.855862\n",
              "7     112585.469220\n",
              "8     106280.829881\n",
              "9      69028.666585\n",
              "10    302262.062504\n",
              "11    165833.887863\n",
              "12    139166.871880\n",
              "13    265506.995776\n",
              "14    317569.949476\n",
              "15    120538.652043\n",
              "16     85769.680133\n",
              "17    112162.936087\n",
              "18    176641.510839\n",
              "19    191722.638730\n",
              "20    275900.562742\n",
              "21    128752.812853\n",
              "22    161251.350631\n",
              "23    249788.038068\n",
              "24    167745.677567\n",
              "25    112976.788600\n",
              "26    110431.288141\n",
              "27    239930.135688\n",
              "28    181758.967539\n",
              "29     99120.136596\n",
              "30     22809.665590\n",
              "31    125855.942933\n",
              "32    138017.252087\n",
              "33     24132.927322\n",
              "34    104630.164676\n",
              "35    211243.457791\n",
              "36     60725.173579\n",
              "37     21837.461190\n",
              "38     42768.169450\n",
              "39    217466.454833\n",
              "40    119002.112858\n",
              "41    187907.162766\n",
              "42     50262.925530\n",
              "43     40598.413260\n",
              "44     24762.832015\n",
              "45    130168.526635\n",
              "Name: Weekly_Sales, dtype: float64"
            ]
          },
          "metadata": {},
          "execution_count": 12
        }
      ]
    },
    {
      "cell_type": "code",
      "metadata": {
        "colab": {
          "base_uri": "https://localhost:8080/"
        },
        "id": "YntjtgKN2L3s",
        "outputId": "ba827b09-e35e-4ea6-91e1-6edb4fd46d15"
      },
      "source": [
        "max_std.idxmax()"
      ],
      "execution_count": 13,
      "outputs": [
        {
          "output_type": "execute_result",
          "data": {
            "text/plain": [
              "14"
            ]
          },
          "metadata": {},
          "execution_count": 13
        }
      ]
    },
    {
      "cell_type": "code",
      "metadata": {
        "colab": {
          "base_uri": "https://localhost:8080/"
        },
        "id": "wRKXA8gN2T8l",
        "outputId": "c64c26d9-8f43-4663-fc58-5bfe2643ca34"
      },
      "source": [
        "max_std[14]"
      ],
      "execution_count": 14,
      "outputs": [
        {
          "output_type": "execute_result",
          "data": {
            "text/plain": [
              "317569.9494755081"
            ]
          },
          "metadata": {},
          "execution_count": 14
        }
      ]
    },
    {
      "cell_type": "markdown",
      "metadata": {
        "id": "s88GMpVG4hdR"
      },
      "source": [
        "**Which store/s has good quarterly growth rate in Q3’2012**"
      ]
    },
    {
      "cell_type": "code",
      "metadata": {
        "id": "kaY-5wIX4mxP"
      },
      "source": [
        "data.Date=pd.to_datetime( data['Date'],infer_datetime_format='%d-%m-%y')"
      ],
      "execution_count": 15,
      "outputs": []
    },
    {
      "cell_type": "code",
      "metadata": {
        "id": "z-VKP6x3Ts5i"
      },
      "source": [
        ""
      ],
      "execution_count": 15,
      "outputs": []
    },
    {
      "cell_type": "code",
      "metadata": {
        "colab": {
          "base_uri": "https://localhost:8080/",
          "height": 417
        },
        "id": "K53aHXpZXQtS",
        "outputId": "49b66d28-db9c-48b8-b1cf-c0ae9e233ab9"
      },
      "source": [
        "walmart_dataset_Q32012 = data[((data['Date']) >= pd.to_datetime('01-07-2012',format=\"%d-%m-%Y\")) &\n",
        "                                         ((data['Date']) <= pd.to_datetime('30-09-2012',format=\"%d-%m-%Y\"))]\n",
        "walmart_dataset_Q32012"
      ],
      "execution_count": 16,
      "outputs": [
        {
          "output_type": "execute_result",
          "data": {
            "text/html": [
              "<div>\n",
              "<style scoped>\n",
              "    .dataframe tbody tr th:only-of-type {\n",
              "        vertical-align: middle;\n",
              "    }\n",
              "\n",
              "    .dataframe tbody tr th {\n",
              "        vertical-align: top;\n",
              "    }\n",
              "\n",
              "    .dataframe thead th {\n",
              "        text-align: right;\n",
              "    }\n",
              "</style>\n",
              "<table border=\"1\" class=\"dataframe\">\n",
              "  <thead>\n",
              "    <tr style=\"text-align: right;\">\n",
              "      <th></th>\n",
              "      <th>Store</th>\n",
              "      <th>Date</th>\n",
              "      <th>Weekly_Sales</th>\n",
              "      <th>Holiday_Flag</th>\n",
              "      <th>Temperature</th>\n",
              "      <th>Fuel_Price</th>\n",
              "      <th>CPI</th>\n",
              "      <th>Unemployment</th>\n",
              "    </tr>\n",
              "  </thead>\n",
              "  <tbody>\n",
              "    <tr>\n",
              "      <th>109</th>\n",
              "      <td>1</td>\n",
              "      <td>2012-09-03</td>\n",
              "      <td>1675431.16</td>\n",
              "      <td>0</td>\n",
              "      <td>58.76</td>\n",
              "      <td>3.669</td>\n",
              "      <td>221.059189</td>\n",
              "      <td>7.348</td>\n",
              "    </tr>\n",
              "    <tr>\n",
              "      <th>122</th>\n",
              "      <td>1</td>\n",
              "      <td>2012-08-06</td>\n",
              "      <td>1697230.96</td>\n",
              "      <td>0</td>\n",
              "      <td>78.30</td>\n",
              "      <td>3.452</td>\n",
              "      <td>221.749484</td>\n",
              "      <td>7.143</td>\n",
              "    </tr>\n",
              "    <tr>\n",
              "      <th>127</th>\n",
              "      <td>1</td>\n",
              "      <td>2012-07-13</td>\n",
              "      <td>1527014.04</td>\n",
              "      <td>0</td>\n",
              "      <td>77.12</td>\n",
              "      <td>3.256</td>\n",
              "      <td>221.924158</td>\n",
              "      <td>6.908</td>\n",
              "    </tr>\n",
              "    <tr>\n",
              "      <th>128</th>\n",
              "      <td>1</td>\n",
              "      <td>2012-07-20</td>\n",
              "      <td>1497954.76</td>\n",
              "      <td>0</td>\n",
              "      <td>80.42</td>\n",
              "      <td>3.311</td>\n",
              "      <td>221.932727</td>\n",
              "      <td>6.908</td>\n",
              "    </tr>\n",
              "    <tr>\n",
              "      <th>129</th>\n",
              "      <td>1</td>\n",
              "      <td>2012-07-27</td>\n",
              "      <td>1439123.71</td>\n",
              "      <td>0</td>\n",
              "      <td>82.66</td>\n",
              "      <td>3.407</td>\n",
              "      <td>221.941295</td>\n",
              "      <td>6.908</td>\n",
              "    </tr>\n",
              "    <tr>\n",
              "      <th>...</th>\n",
              "      <td>...</td>\n",
              "      <td>...</td>\n",
              "      <td>...</td>\n",
              "      <td>...</td>\n",
              "      <td>...</td>\n",
              "      <td>...</td>\n",
              "      <td>...</td>\n",
              "      <td>...</td>\n",
              "    </tr>\n",
              "    <tr>\n",
              "      <th>6426</th>\n",
              "      <td>45</td>\n",
              "      <td>2012-08-31</td>\n",
              "      <td>734297.87</td>\n",
              "      <td>0</td>\n",
              "      <td>75.09</td>\n",
              "      <td>3.867</td>\n",
              "      <td>191.461281</td>\n",
              "      <td>8.684</td>\n",
              "    </tr>\n",
              "    <tr>\n",
              "      <th>6427</th>\n",
              "      <td>45</td>\n",
              "      <td>2012-07-09</td>\n",
              "      <td>766512.66</td>\n",
              "      <td>1</td>\n",
              "      <td>75.70</td>\n",
              "      <td>3.911</td>\n",
              "      <td>191.577676</td>\n",
              "      <td>8.684</td>\n",
              "    </tr>\n",
              "    <tr>\n",
              "      <th>6428</th>\n",
              "      <td>45</td>\n",
              "      <td>2012-09-14</td>\n",
              "      <td>702238.27</td>\n",
              "      <td>0</td>\n",
              "      <td>67.87</td>\n",
              "      <td>3.948</td>\n",
              "      <td>191.699850</td>\n",
              "      <td>8.684</td>\n",
              "    </tr>\n",
              "    <tr>\n",
              "      <th>6429</th>\n",
              "      <td>45</td>\n",
              "      <td>2012-09-21</td>\n",
              "      <td>723086.20</td>\n",
              "      <td>0</td>\n",
              "      <td>65.32</td>\n",
              "      <td>4.038</td>\n",
              "      <td>191.856704</td>\n",
              "      <td>8.684</td>\n",
              "    </tr>\n",
              "    <tr>\n",
              "      <th>6430</th>\n",
              "      <td>45</td>\n",
              "      <td>2012-09-28</td>\n",
              "      <td>713173.95</td>\n",
              "      <td>0</td>\n",
              "      <td>64.88</td>\n",
              "      <td>3.997</td>\n",
              "      <td>192.013558</td>\n",
              "      <td>8.684</td>\n",
              "    </tr>\n",
              "  </tbody>\n",
              "</table>\n",
              "<p>540 rows × 8 columns</p>\n",
              "</div>"
            ],
            "text/plain": [
              "      Store       Date  Weekly_Sales  ...  Fuel_Price         CPI  Unemployment\n",
              "109       1 2012-09-03    1675431.16  ...       3.669  221.059189         7.348\n",
              "122       1 2012-08-06    1697230.96  ...       3.452  221.749484         7.143\n",
              "127       1 2012-07-13    1527014.04  ...       3.256  221.924158         6.908\n",
              "128       1 2012-07-20    1497954.76  ...       3.311  221.932727         6.908\n",
              "129       1 2012-07-27    1439123.71  ...       3.407  221.941295         6.908\n",
              "...     ...        ...           ...  ...         ...         ...           ...\n",
              "6426     45 2012-08-31     734297.87  ...       3.867  191.461281         8.684\n",
              "6427     45 2012-07-09     766512.66  ...       3.911  191.577676         8.684\n",
              "6428     45 2012-09-14     702238.27  ...       3.948  191.699850         8.684\n",
              "6429     45 2012-09-21     723086.20  ...       4.038  191.856704         8.684\n",
              "6430     45 2012-09-28     713173.95  ...       3.997  192.013558         8.684\n",
              "\n",
              "[540 rows x 8 columns]"
            ]
          },
          "metadata": {},
          "execution_count": 16
        }
      ]
    },
    {
      "cell_type": "code",
      "metadata": {
        "colab": {
          "base_uri": "https://localhost:8080/"
        },
        "id": "EH4Zx8pIctbo",
        "outputId": "035acc87-6823-40a8-8616-5f7d0a9ee695"
      },
      "source": [
        "walmart_dataset_Q32012.groupby(['Store'])['Weekly_Sales'].sum().max()"
      ],
      "execution_count": 17,
      "outputs": [
        {
          "output_type": "execute_result",
          "data": {
            "text/plain": [
              "25652119.35"
            ]
          },
          "metadata": {},
          "execution_count": 17
        }
      ]
    },
    {
      "cell_type": "code",
      "metadata": {
        "colab": {
          "base_uri": "https://localhost:8080/"
        },
        "id": "jmwu68FQlOB_",
        "outputId": "cb3099b3-c505-461e-cd56-1d8c105d7e37"
      },
      "source": [
        "walmart_dataset_Q32012.groupby(['Store'])['Weekly_Sales'].sum().idxmax()"
      ],
      "execution_count": 18,
      "outputs": [
        {
          "output_type": "execute_result",
          "data": {
            "text/plain": [
              "4"
            ]
          },
          "metadata": {},
          "execution_count": 18
        }
      ]
    },
    {
      "cell_type": "markdown",
      "metadata": {
        "id": "lCwmWXnmliZ5"
      },
      "source": [
        "so in the index num 4 we have max Q3 that is 25652119.35"
      ]
    },
    {
      "cell_type": "markdown",
      "metadata": {
        "id": "yrRKLQrllJvx"
      },
      "source": [
        "**4 Some holidays have a negative impact on sales. Find out holidays which have higher sales than the mean sales in non-holiday season for all stores together**"
      ]
    },
    {
      "cell_type": "code",
      "metadata": {
        "id": "w4yoI1zc1z_n",
        "colab": {
          "base_uri": "https://localhost:8080/",
          "height": 417
        },
        "outputId": "85e29032-156f-4b32-e26a-f40bde02ec6c"
      },
      "source": [
        "Christmas_sales=data.loc[(data[\"Date\"]==pd.to_datetime(\"31-12-2010\")) |\n",
        "                        (data[\"Date\"]==pd.to_datetime(\"30-12-2011\")) | \n",
        "                        (data[\"Date\"]==pd.to_datetime(\"28-12-2012\")) | \n",
        "                        (data[\"Date\"]==pd.to_datetime(\"27-12-2013\"))]\n",
        "Christmas_sales"
      ],
      "execution_count": 19,
      "outputs": [
        {
          "output_type": "execute_result",
          "data": {
            "text/html": [
              "<div>\n",
              "<style scoped>\n",
              "    .dataframe tbody tr th:only-of-type {\n",
              "        vertical-align: middle;\n",
              "    }\n",
              "\n",
              "    .dataframe tbody tr th {\n",
              "        vertical-align: top;\n",
              "    }\n",
              "\n",
              "    .dataframe thead th {\n",
              "        text-align: right;\n",
              "    }\n",
              "</style>\n",
              "<table border=\"1\" class=\"dataframe\">\n",
              "  <thead>\n",
              "    <tr style=\"text-align: right;\">\n",
              "      <th></th>\n",
              "      <th>Store</th>\n",
              "      <th>Date</th>\n",
              "      <th>Weekly_Sales</th>\n",
              "      <th>Holiday_Flag</th>\n",
              "      <th>Temperature</th>\n",
              "      <th>Fuel_Price</th>\n",
              "      <th>CPI</th>\n",
              "      <th>Unemployment</th>\n",
              "    </tr>\n",
              "  </thead>\n",
              "  <tbody>\n",
              "    <tr>\n",
              "      <th>47</th>\n",
              "      <td>1</td>\n",
              "      <td>2010-12-31</td>\n",
              "      <td>1367320.01</td>\n",
              "      <td>1</td>\n",
              "      <td>48.43</td>\n",
              "      <td>2.943</td>\n",
              "      <td>211.404932</td>\n",
              "      <td>7.838</td>\n",
              "    </tr>\n",
              "    <tr>\n",
              "      <th>99</th>\n",
              "      <td>1</td>\n",
              "      <td>2011-12-30</td>\n",
              "      <td>1497462.72</td>\n",
              "      <td>1</td>\n",
              "      <td>44.55</td>\n",
              "      <td>3.129</td>\n",
              "      <td>219.535990</td>\n",
              "      <td>7.866</td>\n",
              "    </tr>\n",
              "    <tr>\n",
              "      <th>190</th>\n",
              "      <td>2</td>\n",
              "      <td>2010-12-31</td>\n",
              "      <td>1750434.55</td>\n",
              "      <td>1</td>\n",
              "      <td>47.30</td>\n",
              "      <td>2.943</td>\n",
              "      <td>211.064774</td>\n",
              "      <td>8.163</td>\n",
              "    </tr>\n",
              "    <tr>\n",
              "      <th>242</th>\n",
              "      <td>2</td>\n",
              "      <td>2011-12-30</td>\n",
              "      <td>1874226.52</td>\n",
              "      <td>1</td>\n",
              "      <td>44.57</td>\n",
              "      <td>3.129</td>\n",
              "      <td>219.177306</td>\n",
              "      <td>7.441</td>\n",
              "    </tr>\n",
              "    <tr>\n",
              "      <th>333</th>\n",
              "      <td>3</td>\n",
              "      <td>2010-12-31</td>\n",
              "      <td>382677.76</td>\n",
              "      <td>1</td>\n",
              "      <td>53.20</td>\n",
              "      <td>2.943</td>\n",
              "      <td>214.698647</td>\n",
              "      <td>7.564</td>\n",
              "    </tr>\n",
              "    <tr>\n",
              "      <th>...</th>\n",
              "      <td>...</td>\n",
              "      <td>...</td>\n",
              "      <td>...</td>\n",
              "      <td>...</td>\n",
              "      <td>...</td>\n",
              "      <td>...</td>\n",
              "      <td>...</td>\n",
              "      <td>...</td>\n",
              "    </tr>\n",
              "    <tr>\n",
              "      <th>6105</th>\n",
              "      <td>43</td>\n",
              "      <td>2011-12-30</td>\n",
              "      <td>505405.85</td>\n",
              "      <td>1</td>\n",
              "      <td>41.83</td>\n",
              "      <td>3.129</td>\n",
              "      <td>211.074055</td>\n",
              "      <td>10.148</td>\n",
              "    </tr>\n",
              "    <tr>\n",
              "      <th>6196</th>\n",
              "      <td>44</td>\n",
              "      <td>2010-12-31</td>\n",
              "      <td>241937.11</td>\n",
              "      <td>1</td>\n",
              "      <td>26.79</td>\n",
              "      <td>2.868</td>\n",
              "      <td>127.087677</td>\n",
              "      <td>7.610</td>\n",
              "    </tr>\n",
              "    <tr>\n",
              "      <th>6248</th>\n",
              "      <td>44</td>\n",
              "      <td>2011-12-30</td>\n",
              "      <td>263917.85</td>\n",
              "      <td>1</td>\n",
              "      <td>31.53</td>\n",
              "      <td>3.119</td>\n",
              "      <td>130.071032</td>\n",
              "      <td>6.078</td>\n",
              "    </tr>\n",
              "    <tr>\n",
              "      <th>6339</th>\n",
              "      <td>45</td>\n",
              "      <td>2010-12-31</td>\n",
              "      <td>679156.20</td>\n",
              "      <td>1</td>\n",
              "      <td>29.67</td>\n",
              "      <td>3.179</td>\n",
              "      <td>182.571448</td>\n",
              "      <td>8.724</td>\n",
              "    </tr>\n",
              "    <tr>\n",
              "      <th>6391</th>\n",
              "      <td>45</td>\n",
              "      <td>2011-12-30</td>\n",
              "      <td>869403.63</td>\n",
              "      <td>1</td>\n",
              "      <td>37.79</td>\n",
              "      <td>3.389</td>\n",
              "      <td>189.062016</td>\n",
              "      <td>8.523</td>\n",
              "    </tr>\n",
              "  </tbody>\n",
              "</table>\n",
              "<p>90 rows × 8 columns</p>\n",
              "</div>"
            ],
            "text/plain": [
              "      Store       Date  Weekly_Sales  ...  Fuel_Price         CPI  Unemployment\n",
              "47        1 2010-12-31    1367320.01  ...       2.943  211.404932         7.838\n",
              "99        1 2011-12-30    1497462.72  ...       3.129  219.535990         7.866\n",
              "190       2 2010-12-31    1750434.55  ...       2.943  211.064774         8.163\n",
              "242       2 2011-12-30    1874226.52  ...       3.129  219.177306         7.441\n",
              "333       3 2010-12-31     382677.76  ...       2.943  214.698647         7.564\n",
              "...     ...        ...           ...  ...         ...         ...           ...\n",
              "6105     43 2011-12-30     505405.85  ...       3.129  211.074055        10.148\n",
              "6196     44 2010-12-31     241937.11  ...       2.868  127.087677         7.610\n",
              "6248     44 2011-12-30     263917.85  ...       3.119  130.071032         6.078\n",
              "6339     45 2010-12-31     679156.20  ...       3.179  182.571448         8.724\n",
              "6391     45 2011-12-30     869403.63  ...       3.389  189.062016         8.523\n",
              "\n",
              "[90 rows x 8 columns]"
            ]
          },
          "metadata": {},
          "execution_count": 19
        }
      ]
    },
    {
      "cell_type": "code",
      "metadata": {
        "colab": {
          "base_uri": "https://localhost:8080/",
          "height": 417
        },
        "id": "u9dzfn4KGzrX",
        "outputId": "216ade2e-0c34-4640-c5f8-81a3d18beaf5"
      },
      "source": [
        "Thanksgiving=data.loc[(data[\"Date\"]==pd.to_datetime(\"26-11-2010\")) |\n",
        "                                 (data[\"Date\"]==pd.to_datetime(\"25-11-2011\")) |\n",
        "                                 (data[\"Date\"]==pd.to_datetime(\"23-11-2012\")) |\n",
        "                                 (data[\"Date\"]==pd.to_datetime(\"29-11-2013\"))]\n",
        "Thanksgiving"
      ],
      "execution_count": 20,
      "outputs": [
        {
          "output_type": "execute_result",
          "data": {
            "text/html": [
              "<div>\n",
              "<style scoped>\n",
              "    .dataframe tbody tr th:only-of-type {\n",
              "        vertical-align: middle;\n",
              "    }\n",
              "\n",
              "    .dataframe tbody tr th {\n",
              "        vertical-align: top;\n",
              "    }\n",
              "\n",
              "    .dataframe thead th {\n",
              "        text-align: right;\n",
              "    }\n",
              "</style>\n",
              "<table border=\"1\" class=\"dataframe\">\n",
              "  <thead>\n",
              "    <tr style=\"text-align: right;\">\n",
              "      <th></th>\n",
              "      <th>Store</th>\n",
              "      <th>Date</th>\n",
              "      <th>Weekly_Sales</th>\n",
              "      <th>Holiday_Flag</th>\n",
              "      <th>Temperature</th>\n",
              "      <th>Fuel_Price</th>\n",
              "      <th>CPI</th>\n",
              "      <th>Unemployment</th>\n",
              "    </tr>\n",
              "  </thead>\n",
              "  <tbody>\n",
              "    <tr>\n",
              "      <th>42</th>\n",
              "      <td>1</td>\n",
              "      <td>2010-11-26</td>\n",
              "      <td>1955624.11</td>\n",
              "      <td>1</td>\n",
              "      <td>64.52</td>\n",
              "      <td>2.735</td>\n",
              "      <td>211.748433</td>\n",
              "      <td>7.838</td>\n",
              "    </tr>\n",
              "    <tr>\n",
              "      <th>94</th>\n",
              "      <td>1</td>\n",
              "      <td>2011-11-25</td>\n",
              "      <td>2033320.66</td>\n",
              "      <td>1</td>\n",
              "      <td>60.14</td>\n",
              "      <td>3.236</td>\n",
              "      <td>218.467621</td>\n",
              "      <td>7.866</td>\n",
              "    </tr>\n",
              "    <tr>\n",
              "      <th>185</th>\n",
              "      <td>2</td>\n",
              "      <td>2010-11-26</td>\n",
              "      <td>2658725.29</td>\n",
              "      <td>1</td>\n",
              "      <td>62.98</td>\n",
              "      <td>2.735</td>\n",
              "      <td>211.406287</td>\n",
              "      <td>8.163</td>\n",
              "    </tr>\n",
              "    <tr>\n",
              "      <th>237</th>\n",
              "      <td>2</td>\n",
              "      <td>2011-11-25</td>\n",
              "      <td>2614202.30</td>\n",
              "      <td>1</td>\n",
              "      <td>56.36</td>\n",
              "      <td>3.236</td>\n",
              "      <td>218.113027</td>\n",
              "      <td>7.441</td>\n",
              "    </tr>\n",
              "    <tr>\n",
              "      <th>328</th>\n",
              "      <td>3</td>\n",
              "      <td>2010-11-26</td>\n",
              "      <td>565567.84</td>\n",
              "      <td>1</td>\n",
              "      <td>68.71</td>\n",
              "      <td>2.735</td>\n",
              "      <td>215.061402</td>\n",
              "      <td>7.564</td>\n",
              "    </tr>\n",
              "    <tr>\n",
              "      <th>...</th>\n",
              "      <td>...</td>\n",
              "      <td>...</td>\n",
              "      <td>...</td>\n",
              "      <td>...</td>\n",
              "      <td>...</td>\n",
              "      <td>...</td>\n",
              "      <td>...</td>\n",
              "      <td>...</td>\n",
              "    </tr>\n",
              "    <tr>\n",
              "      <th>6100</th>\n",
              "      <td>43</td>\n",
              "      <td>2011-11-25</td>\n",
              "      <td>669965.22</td>\n",
              "      <td>1</td>\n",
              "      <td>55.70</td>\n",
              "      <td>3.236</td>\n",
              "      <td>210.088857</td>\n",
              "      <td>10.148</td>\n",
              "    </tr>\n",
              "    <tr>\n",
              "      <th>6191</th>\n",
              "      <td>44</td>\n",
              "      <td>2010-11-26</td>\n",
              "      <td>307646.50</td>\n",
              "      <td>1</td>\n",
              "      <td>28.22</td>\n",
              "      <td>2.830</td>\n",
              "      <td>126.669267</td>\n",
              "      <td>7.610</td>\n",
              "    </tr>\n",
              "    <tr>\n",
              "      <th>6243</th>\n",
              "      <td>44</td>\n",
              "      <td>2011-11-25</td>\n",
              "      <td>309129.01</td>\n",
              "      <td>1</td>\n",
              "      <td>38.89</td>\n",
              "      <td>3.445</td>\n",
              "      <td>129.836400</td>\n",
              "      <td>6.078</td>\n",
              "    </tr>\n",
              "    <tr>\n",
              "      <th>6334</th>\n",
              "      <td>45</td>\n",
              "      <td>2010-11-26</td>\n",
              "      <td>1182500.16</td>\n",
              "      <td>1</td>\n",
              "      <td>46.15</td>\n",
              "      <td>3.039</td>\n",
              "      <td>182.783277</td>\n",
              "      <td>8.724</td>\n",
              "    </tr>\n",
              "    <tr>\n",
              "      <th>6386</th>\n",
              "      <td>45</td>\n",
              "      <td>2011-11-25</td>\n",
              "      <td>1170672.94</td>\n",
              "      <td>1</td>\n",
              "      <td>48.71</td>\n",
              "      <td>3.492</td>\n",
              "      <td>188.350400</td>\n",
              "      <td>8.523</td>\n",
              "    </tr>\n",
              "  </tbody>\n",
              "</table>\n",
              "<p>90 rows × 8 columns</p>\n",
              "</div>"
            ],
            "text/plain": [
              "      Store       Date  Weekly_Sales  ...  Fuel_Price         CPI  Unemployment\n",
              "42        1 2010-11-26    1955624.11  ...       2.735  211.748433         7.838\n",
              "94        1 2011-11-25    2033320.66  ...       3.236  218.467621         7.866\n",
              "185       2 2010-11-26    2658725.29  ...       2.735  211.406287         8.163\n",
              "237       2 2011-11-25    2614202.30  ...       3.236  218.113027         7.441\n",
              "328       3 2010-11-26     565567.84  ...       2.735  215.061402         7.564\n",
              "...     ...        ...           ...  ...         ...         ...           ...\n",
              "6100     43 2011-11-25     669965.22  ...       3.236  210.088857        10.148\n",
              "6191     44 2010-11-26     307646.50  ...       2.830  126.669267         7.610\n",
              "6243     44 2011-11-25     309129.01  ...       3.445  129.836400         6.078\n",
              "6334     45 2010-11-26    1182500.16  ...       3.039  182.783277         8.724\n",
              "6386     45 2011-11-25    1170672.94  ...       3.492  188.350400         8.523\n",
              "\n",
              "[90 rows x 8 columns]"
            ]
          },
          "metadata": {},
          "execution_count": 20
        }
      ]
    },
    {
      "cell_type": "code",
      "metadata": {
        "colab": {
          "base_uri": "https://localhost:8080/",
          "height": 1000
        },
        "id": "lJiJbMl4HhVg",
        "outputId": "3bbef9fa-5c4a-4eee-f273-a16a2fff39ce"
      },
      "source": [
        "Labour_day=data.loc[(data[\"Date\"]==pd.to_datetime(\"10-09-2010\",format=\"%d-%m-%Y\")) | \n",
        "                               (data[\"Date\"]==pd.to_datetime(\"09-09-2011\",format=\"%d-%m-%Y\")) | \n",
        "                               (data[\"Date\"]==pd.to_datetime(\"07-09-2012\",format=\"%d-%m-%Y\")) | \n",
        "                               (data[\"Date\"]==pd.to_datetime(\"06-09-2013\",format=\"%d-%m-%Y\"))]\n",
        "Labour_day"
      ],
      "execution_count": 21,
      "outputs": [
        {
          "output_type": "execute_result",
          "data": {
            "text/html": [
              "<div>\n",
              "<style scoped>\n",
              "    .dataframe tbody tr th:only-of-type {\n",
              "        vertical-align: middle;\n",
              "    }\n",
              "\n",
              "    .dataframe tbody tr th {\n",
              "        vertical-align: top;\n",
              "    }\n",
              "\n",
              "    .dataframe thead th {\n",
              "        text-align: right;\n",
              "    }\n",
              "</style>\n",
              "<table border=\"1\" class=\"dataframe\">\n",
              "  <thead>\n",
              "    <tr style=\"text-align: right;\">\n",
              "      <th></th>\n",
              "      <th>Store</th>\n",
              "      <th>Date</th>\n",
              "      <th>Weekly_Sales</th>\n",
              "      <th>Holiday_Flag</th>\n",
              "      <th>Temperature</th>\n",
              "      <th>Fuel_Price</th>\n",
              "      <th>CPI</th>\n",
              "      <th>Unemployment</th>\n",
              "    </tr>\n",
              "  </thead>\n",
              "  <tbody>\n",
              "    <tr>\n",
              "      <th>83</th>\n",
              "      <td>1</td>\n",
              "      <td>2011-09-09</td>\n",
              "      <td>1540471.24</td>\n",
              "      <td>1</td>\n",
              "      <td>76.00</td>\n",
              "      <td>3.546</td>\n",
              "      <td>215.861056</td>\n",
              "      <td>7.962</td>\n",
              "    </tr>\n",
              "    <tr>\n",
              "      <th>226</th>\n",
              "      <td>2</td>\n",
              "      <td>2011-09-09</td>\n",
              "      <td>1748000.65</td>\n",
              "      <td>1</td>\n",
              "      <td>77.97</td>\n",
              "      <td>3.546</td>\n",
              "      <td>215.514829</td>\n",
              "      <td>7.852</td>\n",
              "    </tr>\n",
              "    <tr>\n",
              "      <th>369</th>\n",
              "      <td>3</td>\n",
              "      <td>2011-09-09</td>\n",
              "      <td>377347.49</td>\n",
              "      <td>1</td>\n",
              "      <td>81.72</td>\n",
              "      <td>3.546</td>\n",
              "      <td>219.213531</td>\n",
              "      <td>7.567</td>\n",
              "    </tr>\n",
              "    <tr>\n",
              "      <th>512</th>\n",
              "      <td>4</td>\n",
              "      <td>2011-09-09</td>\n",
              "      <td>2093139.01</td>\n",
              "      <td>1</td>\n",
              "      <td>73.34</td>\n",
              "      <td>3.554</td>\n",
              "      <td>129.368613</td>\n",
              "      <td>5.644</td>\n",
              "    </tr>\n",
              "    <tr>\n",
              "      <th>655</th>\n",
              "      <td>5</td>\n",
              "      <td>2011-09-09</td>\n",
              "      <td>321110.22</td>\n",
              "      <td>1</td>\n",
              "      <td>79.04</td>\n",
              "      <td>3.546</td>\n",
              "      <td>216.422682</td>\n",
              "      <td>6.529</td>\n",
              "    </tr>\n",
              "    <tr>\n",
              "      <th>798</th>\n",
              "      <td>6</td>\n",
              "      <td>2011-09-09</td>\n",
              "      <td>1483574.38</td>\n",
              "      <td>1</td>\n",
              "      <td>80.21</td>\n",
              "      <td>3.546</td>\n",
              "      <td>217.398030</td>\n",
              "      <td>6.925</td>\n",
              "    </tr>\n",
              "    <tr>\n",
              "      <th>941</th>\n",
              "      <td>7</td>\n",
              "      <td>2011-09-09</td>\n",
              "      <td>613135.23</td>\n",
              "      <td>1</td>\n",
              "      <td>45.61</td>\n",
              "      <td>3.566</td>\n",
              "      <td>194.638785</td>\n",
              "      <td>8.622</td>\n",
              "    </tr>\n",
              "    <tr>\n",
              "      <th>1084</th>\n",
              "      <td>8</td>\n",
              "      <td>2011-09-09</td>\n",
              "      <td>848358.09</td>\n",
              "      <td>1</td>\n",
              "      <td>69.01</td>\n",
              "      <td>3.546</td>\n",
              "      <td>219.260435</td>\n",
              "      <td>6.425</td>\n",
              "    </tr>\n",
              "    <tr>\n",
              "      <th>1227</th>\n",
              "      <td>9</td>\n",
              "      <td>2011-09-09</td>\n",
              "      <td>528784.86</td>\n",
              "      <td>1</td>\n",
              "      <td>75.65</td>\n",
              "      <td>3.546</td>\n",
              "      <td>219.445767</td>\n",
              "      <td>6.404</td>\n",
              "    </tr>\n",
              "    <tr>\n",
              "      <th>1370</th>\n",
              "      <td>10</td>\n",
              "      <td>2011-09-09</td>\n",
              "      <td>1670579.82</td>\n",
              "      <td>1</td>\n",
              "      <td>89.06</td>\n",
              "      <td>3.771</td>\n",
              "      <td>129.368613</td>\n",
              "      <td>8.257</td>\n",
              "    </tr>\n",
              "    <tr>\n",
              "      <th>1513</th>\n",
              "      <td>11</td>\n",
              "      <td>2011-09-09</td>\n",
              "      <td>1249439.95</td>\n",
              "      <td>1</td>\n",
              "      <td>84.91</td>\n",
              "      <td>3.546</td>\n",
              "      <td>219.213531</td>\n",
              "      <td>7.567</td>\n",
              "    </tr>\n",
              "    <tr>\n",
              "      <th>1656</th>\n",
              "      <td>12</td>\n",
              "      <td>2011-09-09</td>\n",
              "      <td>922850.57</td>\n",
              "      <td>1</td>\n",
              "      <td>88.00</td>\n",
              "      <td>3.913</td>\n",
              "      <td>129.368613</td>\n",
              "      <td>13.503</td>\n",
              "    </tr>\n",
              "    <tr>\n",
              "      <th>1799</th>\n",
              "      <td>13</td>\n",
              "      <td>2011-09-09</td>\n",
              "      <td>1872921.31</td>\n",
              "      <td>1</td>\n",
              "      <td>70.19</td>\n",
              "      <td>3.619</td>\n",
              "      <td>129.368613</td>\n",
              "      <td>6.877</td>\n",
              "    </tr>\n",
              "    <tr>\n",
              "      <th>1942</th>\n",
              "      <td>14</td>\n",
              "      <td>2011-09-09</td>\n",
              "      <td>2202742.90</td>\n",
              "      <td>1</td>\n",
              "      <td>71.48</td>\n",
              "      <td>3.738</td>\n",
              "      <td>186.673738</td>\n",
              "      <td>8.625</td>\n",
              "    </tr>\n",
              "    <tr>\n",
              "      <th>2085</th>\n",
              "      <td>15</td>\n",
              "      <td>2011-09-09</td>\n",
              "      <td>607593.51</td>\n",
              "      <td>1</td>\n",
              "      <td>67.59</td>\n",
              "      <td>3.930</td>\n",
              "      <td>136.274581</td>\n",
              "      <td>7.806</td>\n",
              "    </tr>\n",
              "    <tr>\n",
              "      <th>2228</th>\n",
              "      <td>16</td>\n",
              "      <td>2011-09-09</td>\n",
              "      <td>574622.56</td>\n",
              "      <td>1</td>\n",
              "      <td>56.99</td>\n",
              "      <td>3.566</td>\n",
              "      <td>194.638785</td>\n",
              "      <td>6.338</td>\n",
              "    </tr>\n",
              "    <tr>\n",
              "      <th>2371</th>\n",
              "      <td>17</td>\n",
              "      <td>2011-09-09</td>\n",
              "      <td>1161900.18</td>\n",
              "      <td>1</td>\n",
              "      <td>61.94</td>\n",
              "      <td>3.619</td>\n",
              "      <td>129.368613</td>\n",
              "      <td>6.745</td>\n",
              "    </tr>\n",
              "    <tr>\n",
              "      <th>2514</th>\n",
              "      <td>18</td>\n",
              "      <td>2011-09-09</td>\n",
              "      <td>951549.61</td>\n",
              "      <td>1</td>\n",
              "      <td>68.11</td>\n",
              "      <td>3.809</td>\n",
              "      <td>136.274581</td>\n",
              "      <td>8.890</td>\n",
              "    </tr>\n",
              "    <tr>\n",
              "      <th>2657</th>\n",
              "      <td>19</td>\n",
              "      <td>2011-09-09</td>\n",
              "      <td>1566712.79</td>\n",
              "      <td>1</td>\n",
              "      <td>68.28</td>\n",
              "      <td>3.930</td>\n",
              "      <td>136.274581</td>\n",
              "      <td>7.806</td>\n",
              "    </tr>\n",
              "    <tr>\n",
              "      <th>2800</th>\n",
              "      <td>20</td>\n",
              "      <td>2011-09-09</td>\n",
              "      <td>2050542.56</td>\n",
              "      <td>1</td>\n",
              "      <td>68.74</td>\n",
              "      <td>3.738</td>\n",
              "      <td>209.022556</td>\n",
              "      <td>7.274</td>\n",
              "    </tr>\n",
              "    <tr>\n",
              "      <th>2943</th>\n",
              "      <td>21</td>\n",
              "      <td>2011-09-09</td>\n",
              "      <td>653989.65</td>\n",
              "      <td>1</td>\n",
              "      <td>78.87</td>\n",
              "      <td>3.546</td>\n",
              "      <td>215.514829</td>\n",
              "      <td>7.852</td>\n",
              "    </tr>\n",
              "    <tr>\n",
              "      <th>3086</th>\n",
              "      <td>22</td>\n",
              "      <td>2011-09-09</td>\n",
              "      <td>1004434.54</td>\n",
              "      <td>1</td>\n",
              "      <td>69.14</td>\n",
              "      <td>3.809</td>\n",
              "      <td>140.231017</td>\n",
              "      <td>8.023</td>\n",
              "    </tr>\n",
              "    <tr>\n",
              "      <th>3229</th>\n",
              "      <td>23</td>\n",
              "      <td>2011-09-09</td>\n",
              "      <td>1423289.90</td>\n",
              "      <td>1</td>\n",
              "      <td>66.04</td>\n",
              "      <td>3.809</td>\n",
              "      <td>136.274581</td>\n",
              "      <td>4.584</td>\n",
              "    </tr>\n",
              "    <tr>\n",
              "      <th>3372</th>\n",
              "      <td>24</td>\n",
              "      <td>2011-09-09</td>\n",
              "      <td>1527455.19</td>\n",
              "      <td>1</td>\n",
              "      <td>68.32</td>\n",
              "      <td>3.930</td>\n",
              "      <td>136.274581</td>\n",
              "      <td>8.358</td>\n",
              "    </tr>\n",
              "    <tr>\n",
              "      <th>3515</th>\n",
              "      <td>25</td>\n",
              "      <td>2011-09-09</td>\n",
              "      <td>673248.48</td>\n",
              "      <td>1</td>\n",
              "      <td>67.51</td>\n",
              "      <td>3.738</td>\n",
              "      <td>209.022556</td>\n",
              "      <td>7.274</td>\n",
              "    </tr>\n",
              "    <tr>\n",
              "      <th>3658</th>\n",
              "      <td>26</td>\n",
              "      <td>2011-09-09</td>\n",
              "      <td>1069710.97</td>\n",
              "      <td>1</td>\n",
              "      <td>60.98</td>\n",
              "      <td>3.809</td>\n",
              "      <td>136.274581</td>\n",
              "      <td>7.767</td>\n",
              "    </tr>\n",
              "    <tr>\n",
              "      <th>3801</th>\n",
              "      <td>27</td>\n",
              "      <td>2011-09-09</td>\n",
              "      <td>1911470.84</td>\n",
              "      <td>1</td>\n",
              "      <td>70.93</td>\n",
              "      <td>3.930</td>\n",
              "      <td>140.231017</td>\n",
              "      <td>7.850</td>\n",
              "    </tr>\n",
              "    <tr>\n",
              "      <th>3944</th>\n",
              "      <td>28</td>\n",
              "      <td>2011-09-09</td>\n",
              "      <td>1310087.00</td>\n",
              "      <td>1</td>\n",
              "      <td>88.00</td>\n",
              "      <td>3.913</td>\n",
              "      <td>129.368613</td>\n",
              "      <td>13.503</td>\n",
              "    </tr>\n",
              "    <tr>\n",
              "      <th>4087</th>\n",
              "      <td>29</td>\n",
              "      <td>2011-09-09</td>\n",
              "      <td>505406.72</td>\n",
              "      <td>1</td>\n",
              "      <td>69.14</td>\n",
              "      <td>3.809</td>\n",
              "      <td>136.274581</td>\n",
              "      <td>9.863</td>\n",
              "    </tr>\n",
              "    <tr>\n",
              "      <th>4230</th>\n",
              "      <td>30</td>\n",
              "      <td>2011-09-09</td>\n",
              "      <td>370897.82</td>\n",
              "      <td>1</td>\n",
              "      <td>78.87</td>\n",
              "      <td>3.546</td>\n",
              "      <td>215.514829</td>\n",
              "      <td>7.852</td>\n",
              "    </tr>\n",
              "    <tr>\n",
              "      <th>4373</th>\n",
              "      <td>31</td>\n",
              "      <td>2011-09-09</td>\n",
              "      <td>1376670.27</td>\n",
              "      <td>1</td>\n",
              "      <td>78.87</td>\n",
              "      <td>3.546</td>\n",
              "      <td>215.514829</td>\n",
              "      <td>7.852</td>\n",
              "    </tr>\n",
              "    <tr>\n",
              "      <th>4516</th>\n",
              "      <td>32</td>\n",
              "      <td>2011-09-09</td>\n",
              "      <td>1128237.30</td>\n",
              "      <td>1</td>\n",
              "      <td>61.24</td>\n",
              "      <td>3.566</td>\n",
              "      <td>194.638785</td>\n",
              "      <td>8.622</td>\n",
              "    </tr>\n",
              "    <tr>\n",
              "      <th>4659</th>\n",
              "      <td>33</td>\n",
              "      <td>2011-09-09</td>\n",
              "      <td>281842.28</td>\n",
              "      <td>1</td>\n",
              "      <td>96.22</td>\n",
              "      <td>3.771</td>\n",
              "      <td>129.368613</td>\n",
              "      <td>8.442</td>\n",
              "    </tr>\n",
              "    <tr>\n",
              "      <th>4802</th>\n",
              "      <td>34</td>\n",
              "      <td>2011-09-09</td>\n",
              "      <td>930506.14</td>\n",
              "      <td>1</td>\n",
              "      <td>70.05</td>\n",
              "      <td>3.554</td>\n",
              "      <td>129.368613</td>\n",
              "      <td>10.641</td>\n",
              "    </tr>\n",
              "    <tr>\n",
              "      <th>4945</th>\n",
              "      <td>35</td>\n",
              "      <td>2011-09-09</td>\n",
              "      <td>922440.64</td>\n",
              "      <td>1</td>\n",
              "      <td>70.93</td>\n",
              "      <td>3.738</td>\n",
              "      <td>140.231017</td>\n",
              "      <td>8.684</td>\n",
              "    </tr>\n",
              "    <tr>\n",
              "      <th>5088</th>\n",
              "      <td>36</td>\n",
              "      <td>2011-09-09</td>\n",
              "      <td>352960.64</td>\n",
              "      <td>1</td>\n",
              "      <td>77.94</td>\n",
              "      <td>3.499</td>\n",
              "      <td>214.615538</td>\n",
              "      <td>8.177</td>\n",
              "    </tr>\n",
              "    <tr>\n",
              "      <th>5231</th>\n",
              "      <td>37</td>\n",
              "      <td>2011-09-09</td>\n",
              "      <td>506273.74</td>\n",
              "      <td>1</td>\n",
              "      <td>77.94</td>\n",
              "      <td>3.546</td>\n",
              "      <td>214.615538</td>\n",
              "      <td>8.177</td>\n",
              "    </tr>\n",
              "    <tr>\n",
              "      <th>5374</th>\n",
              "      <td>38</td>\n",
              "      <td>2011-09-09</td>\n",
              "      <td>397771.68</td>\n",
              "      <td>1</td>\n",
              "      <td>88.00</td>\n",
              "      <td>3.913</td>\n",
              "      <td>129.368613</td>\n",
              "      <td>13.503</td>\n",
              "    </tr>\n",
              "    <tr>\n",
              "      <th>5517</th>\n",
              "      <td>39</td>\n",
              "      <td>2011-09-09</td>\n",
              "      <td>1429345.86</td>\n",
              "      <td>1</td>\n",
              "      <td>79.15</td>\n",
              "      <td>3.546</td>\n",
              "      <td>214.615538</td>\n",
              "      <td>8.177</td>\n",
              "    </tr>\n",
              "    <tr>\n",
              "      <th>5660</th>\n",
              "      <td>40</td>\n",
              "      <td>2011-09-09</td>\n",
              "      <td>1021391.99</td>\n",
              "      <td>1</td>\n",
              "      <td>64.83</td>\n",
              "      <td>3.809</td>\n",
              "      <td>136.274581</td>\n",
              "      <td>4.584</td>\n",
              "    </tr>\n",
              "    <tr>\n",
              "      <th>5803</th>\n",
              "      <td>41</td>\n",
              "      <td>2011-09-09</td>\n",
              "      <td>1280958.97</td>\n",
              "      <td>1</td>\n",
              "      <td>58.31</td>\n",
              "      <td>3.566</td>\n",
              "      <td>194.638785</td>\n",
              "      <td>6.901</td>\n",
              "    </tr>\n",
              "    <tr>\n",
              "      <th>5946</th>\n",
              "      <td>42</td>\n",
              "      <td>2011-09-09</td>\n",
              "      <td>608390.94</td>\n",
              "      <td>1</td>\n",
              "      <td>89.06</td>\n",
              "      <td>3.771</td>\n",
              "      <td>129.368613</td>\n",
              "      <td>8.257</td>\n",
              "    </tr>\n",
              "    <tr>\n",
              "      <th>6089</th>\n",
              "      <td>43</td>\n",
              "      <td>2011-09-09</td>\n",
              "      <td>649128.23</td>\n",
              "      <td>1</td>\n",
              "      <td>79.29</td>\n",
              "      <td>3.546</td>\n",
              "      <td>207.683389</td>\n",
              "      <td>10.641</td>\n",
              "    </tr>\n",
              "    <tr>\n",
              "      <th>6232</th>\n",
              "      <td>44</td>\n",
              "      <td>2011-09-09</td>\n",
              "      <td>295811.25</td>\n",
              "      <td>1</td>\n",
              "      <td>70.19</td>\n",
              "      <td>3.619</td>\n",
              "      <td>129.368613</td>\n",
              "      <td>6.560</td>\n",
              "    </tr>\n",
              "    <tr>\n",
              "      <th>6375</th>\n",
              "      <td>45</td>\n",
              "      <td>2011-09-09</td>\n",
              "      <td>746129.56</td>\n",
              "      <td>1</td>\n",
              "      <td>71.48</td>\n",
              "      <td>3.738</td>\n",
              "      <td>186.673738</td>\n",
              "      <td>8.625</td>\n",
              "    </tr>\n",
              "  </tbody>\n",
              "</table>\n",
              "</div>"
            ],
            "text/plain": [
              "      Store       Date  Weekly_Sales  ...  Fuel_Price         CPI  Unemployment\n",
              "83        1 2011-09-09    1540471.24  ...       3.546  215.861056         7.962\n",
              "226       2 2011-09-09    1748000.65  ...       3.546  215.514829         7.852\n",
              "369       3 2011-09-09     377347.49  ...       3.546  219.213531         7.567\n",
              "512       4 2011-09-09    2093139.01  ...       3.554  129.368613         5.644\n",
              "655       5 2011-09-09     321110.22  ...       3.546  216.422682         6.529\n",
              "798       6 2011-09-09    1483574.38  ...       3.546  217.398030         6.925\n",
              "941       7 2011-09-09     613135.23  ...       3.566  194.638785         8.622\n",
              "1084      8 2011-09-09     848358.09  ...       3.546  219.260435         6.425\n",
              "1227      9 2011-09-09     528784.86  ...       3.546  219.445767         6.404\n",
              "1370     10 2011-09-09    1670579.82  ...       3.771  129.368613         8.257\n",
              "1513     11 2011-09-09    1249439.95  ...       3.546  219.213531         7.567\n",
              "1656     12 2011-09-09     922850.57  ...       3.913  129.368613        13.503\n",
              "1799     13 2011-09-09    1872921.31  ...       3.619  129.368613         6.877\n",
              "1942     14 2011-09-09    2202742.90  ...       3.738  186.673738         8.625\n",
              "2085     15 2011-09-09     607593.51  ...       3.930  136.274581         7.806\n",
              "2228     16 2011-09-09     574622.56  ...       3.566  194.638785         6.338\n",
              "2371     17 2011-09-09    1161900.18  ...       3.619  129.368613         6.745\n",
              "2514     18 2011-09-09     951549.61  ...       3.809  136.274581         8.890\n",
              "2657     19 2011-09-09    1566712.79  ...       3.930  136.274581         7.806\n",
              "2800     20 2011-09-09    2050542.56  ...       3.738  209.022556         7.274\n",
              "2943     21 2011-09-09     653989.65  ...       3.546  215.514829         7.852\n",
              "3086     22 2011-09-09    1004434.54  ...       3.809  140.231017         8.023\n",
              "3229     23 2011-09-09    1423289.90  ...       3.809  136.274581         4.584\n",
              "3372     24 2011-09-09    1527455.19  ...       3.930  136.274581         8.358\n",
              "3515     25 2011-09-09     673248.48  ...       3.738  209.022556         7.274\n",
              "3658     26 2011-09-09    1069710.97  ...       3.809  136.274581         7.767\n",
              "3801     27 2011-09-09    1911470.84  ...       3.930  140.231017         7.850\n",
              "3944     28 2011-09-09    1310087.00  ...       3.913  129.368613        13.503\n",
              "4087     29 2011-09-09     505406.72  ...       3.809  136.274581         9.863\n",
              "4230     30 2011-09-09     370897.82  ...       3.546  215.514829         7.852\n",
              "4373     31 2011-09-09    1376670.27  ...       3.546  215.514829         7.852\n",
              "4516     32 2011-09-09    1128237.30  ...       3.566  194.638785         8.622\n",
              "4659     33 2011-09-09     281842.28  ...       3.771  129.368613         8.442\n",
              "4802     34 2011-09-09     930506.14  ...       3.554  129.368613        10.641\n",
              "4945     35 2011-09-09     922440.64  ...       3.738  140.231017         8.684\n",
              "5088     36 2011-09-09     352960.64  ...       3.499  214.615538         8.177\n",
              "5231     37 2011-09-09     506273.74  ...       3.546  214.615538         8.177\n",
              "5374     38 2011-09-09     397771.68  ...       3.913  129.368613        13.503\n",
              "5517     39 2011-09-09    1429345.86  ...       3.546  214.615538         8.177\n",
              "5660     40 2011-09-09    1021391.99  ...       3.809  136.274581         4.584\n",
              "5803     41 2011-09-09    1280958.97  ...       3.566  194.638785         6.901\n",
              "5946     42 2011-09-09     608390.94  ...       3.771  129.368613         8.257\n",
              "6089     43 2011-09-09     649128.23  ...       3.546  207.683389        10.641\n",
              "6232     44 2011-09-09     295811.25  ...       3.619  129.368613         6.560\n",
              "6375     45 2011-09-09     746129.56  ...       3.738  186.673738         8.625\n",
              "\n",
              "[45 rows x 8 columns]"
            ]
          },
          "metadata": {},
          "execution_count": 21
        }
      ]
    },
    {
      "cell_type": "code",
      "metadata": {
        "colab": {
          "base_uri": "https://localhost:8080/"
        },
        "id": "-jfU37vnPzCO",
        "outputId": "5b820724-516c-4436-b705-8516b7eac51e"
      },
      "source": [
        "Super_Bowl=data.loc[(data[\"Date\"]==pd.to_datetime(\"12-02-2010\",format=\"%d-%m-%Y\")) |\n",
        "                               (data[\"Date\"]==pd.to_datetime(\"11-02-2011\",format=\"%d-%m-%Y\")) |\n",
        "                               (data[\"Date\"]==pd.to_datetime(\"10-02-2012\",format=\"%d-%m-%Y\")) |\n",
        "                               (data[\"Date\"]==pd.to_datetime(\"08-02-2013\",format=\"%d-%m-%Y\"))]\n",
        "Super_Bowl.shape"
      ],
      "execution_count": 22,
      "outputs": [
        {
          "output_type": "execute_result",
          "data": {
            "text/plain": [
              "(0, 8)"
            ]
          },
          "metadata": {},
          "execution_count": 22
        }
      ]
    },
    {
      "cell_type": "code",
      "metadata": {
        "id": "MHJSWSHOSzuK"
      },
      "source": [
        "holiday_sale=data.loc[data['Holiday_Flag']==1]"
      ],
      "execution_count": 23,
      "outputs": []
    },
    {
      "cell_type": "code",
      "metadata": {
        "colab": {
          "base_uri": "https://localhost:8080/",
          "height": 417
        },
        "id": "l_z2xKrsTsOn",
        "outputId": "27eb3d42-a2cd-4b02-fb0f-bf2a098543bd"
      },
      "source": [
        "holiday_sale"
      ],
      "execution_count": 24,
      "outputs": [
        {
          "output_type": "execute_result",
          "data": {
            "text/html": [
              "<div>\n",
              "<style scoped>\n",
              "    .dataframe tbody tr th:only-of-type {\n",
              "        vertical-align: middle;\n",
              "    }\n",
              "\n",
              "    .dataframe tbody tr th {\n",
              "        vertical-align: top;\n",
              "    }\n",
              "\n",
              "    .dataframe thead th {\n",
              "        text-align: right;\n",
              "    }\n",
              "</style>\n",
              "<table border=\"1\" class=\"dataframe\">\n",
              "  <thead>\n",
              "    <tr style=\"text-align: right;\">\n",
              "      <th></th>\n",
              "      <th>Store</th>\n",
              "      <th>Date</th>\n",
              "      <th>Weekly_Sales</th>\n",
              "      <th>Holiday_Flag</th>\n",
              "      <th>Temperature</th>\n",
              "      <th>Fuel_Price</th>\n",
              "      <th>CPI</th>\n",
              "      <th>Unemployment</th>\n",
              "    </tr>\n",
              "  </thead>\n",
              "  <tbody>\n",
              "    <tr>\n",
              "      <th>1</th>\n",
              "      <td>1</td>\n",
              "      <td>2010-12-02</td>\n",
              "      <td>1641957.44</td>\n",
              "      <td>1</td>\n",
              "      <td>38.51</td>\n",
              "      <td>2.548</td>\n",
              "      <td>211.242170</td>\n",
              "      <td>8.106</td>\n",
              "    </tr>\n",
              "    <tr>\n",
              "      <th>31</th>\n",
              "      <td>1</td>\n",
              "      <td>2010-10-09</td>\n",
              "      <td>1507460.69</td>\n",
              "      <td>1</td>\n",
              "      <td>78.69</td>\n",
              "      <td>2.565</td>\n",
              "      <td>211.495190</td>\n",
              "      <td>7.787</td>\n",
              "    </tr>\n",
              "    <tr>\n",
              "      <th>42</th>\n",
              "      <td>1</td>\n",
              "      <td>2010-11-26</td>\n",
              "      <td>1955624.11</td>\n",
              "      <td>1</td>\n",
              "      <td>64.52</td>\n",
              "      <td>2.735</td>\n",
              "      <td>211.748433</td>\n",
              "      <td>7.838</td>\n",
              "    </tr>\n",
              "    <tr>\n",
              "      <th>47</th>\n",
              "      <td>1</td>\n",
              "      <td>2010-12-31</td>\n",
              "      <td>1367320.01</td>\n",
              "      <td>1</td>\n",
              "      <td>48.43</td>\n",
              "      <td>2.943</td>\n",
              "      <td>211.404932</td>\n",
              "      <td>7.838</td>\n",
              "    </tr>\n",
              "    <tr>\n",
              "      <th>53</th>\n",
              "      <td>1</td>\n",
              "      <td>2011-11-02</td>\n",
              "      <td>1649614.93</td>\n",
              "      <td>1</td>\n",
              "      <td>36.39</td>\n",
              "      <td>3.022</td>\n",
              "      <td>212.936705</td>\n",
              "      <td>7.742</td>\n",
              "    </tr>\n",
              "    <tr>\n",
              "      <th>...</th>\n",
              "      <td>...</td>\n",
              "      <td>...</td>\n",
              "      <td>...</td>\n",
              "      <td>...</td>\n",
              "      <td>...</td>\n",
              "      <td>...</td>\n",
              "      <td>...</td>\n",
              "      <td>...</td>\n",
              "    </tr>\n",
              "    <tr>\n",
              "      <th>6375</th>\n",
              "      <td>45</td>\n",
              "      <td>2011-09-09</td>\n",
              "      <td>746129.56</td>\n",
              "      <td>1</td>\n",
              "      <td>71.48</td>\n",
              "      <td>3.738</td>\n",
              "      <td>186.673738</td>\n",
              "      <td>8.625</td>\n",
              "    </tr>\n",
              "    <tr>\n",
              "      <th>6386</th>\n",
              "      <td>45</td>\n",
              "      <td>2011-11-25</td>\n",
              "      <td>1170672.94</td>\n",
              "      <td>1</td>\n",
              "      <td>48.71</td>\n",
              "      <td>3.492</td>\n",
              "      <td>188.350400</td>\n",
              "      <td>8.523</td>\n",
              "    </tr>\n",
              "    <tr>\n",
              "      <th>6391</th>\n",
              "      <td>45</td>\n",
              "      <td>2011-12-30</td>\n",
              "      <td>869403.63</td>\n",
              "      <td>1</td>\n",
              "      <td>37.79</td>\n",
              "      <td>3.389</td>\n",
              "      <td>189.062016</td>\n",
              "      <td>8.523</td>\n",
              "    </tr>\n",
              "    <tr>\n",
              "      <th>6397</th>\n",
              "      <td>45</td>\n",
              "      <td>2012-10-02</td>\n",
              "      <td>803657.12</td>\n",
              "      <td>1</td>\n",
              "      <td>37.00</td>\n",
              "      <td>3.640</td>\n",
              "      <td>189.707605</td>\n",
              "      <td>8.424</td>\n",
              "    </tr>\n",
              "    <tr>\n",
              "      <th>6427</th>\n",
              "      <td>45</td>\n",
              "      <td>2012-07-09</td>\n",
              "      <td>766512.66</td>\n",
              "      <td>1</td>\n",
              "      <td>75.70</td>\n",
              "      <td>3.911</td>\n",
              "      <td>191.577676</td>\n",
              "      <td>8.684</td>\n",
              "    </tr>\n",
              "  </tbody>\n",
              "</table>\n",
              "<p>450 rows × 8 columns</p>\n",
              "</div>"
            ],
            "text/plain": [
              "      Store       Date  Weekly_Sales  ...  Fuel_Price         CPI  Unemployment\n",
              "1         1 2010-12-02    1641957.44  ...       2.548  211.242170         8.106\n",
              "31        1 2010-10-09    1507460.69  ...       2.565  211.495190         7.787\n",
              "42        1 2010-11-26    1955624.11  ...       2.735  211.748433         7.838\n",
              "47        1 2010-12-31    1367320.01  ...       2.943  211.404932         7.838\n",
              "53        1 2011-11-02    1649614.93  ...       3.022  212.936705         7.742\n",
              "...     ...        ...           ...  ...         ...         ...           ...\n",
              "6375     45 2011-09-09     746129.56  ...       3.738  186.673738         8.625\n",
              "6386     45 2011-11-25    1170672.94  ...       3.492  188.350400         8.523\n",
              "6391     45 2011-12-30     869403.63  ...       3.389  189.062016         8.523\n",
              "6397     45 2012-10-02     803657.12  ...       3.640  189.707605         8.424\n",
              "6427     45 2012-07-09     766512.66  ...       3.911  191.577676         8.684\n",
              "\n",
              "[450 rows x 8 columns]"
            ]
          },
          "metadata": {},
          "execution_count": 24
        }
      ]
    },
    {
      "cell_type": "code",
      "metadata": {
        "colab": {
          "base_uri": "https://localhost:8080/",
          "height": 203
        },
        "id": "rhr19WZcTuj9",
        "outputId": "e86eeae9-3557-4ed4-8fe6-1c8d918f042b"
      },
      "source": [
        "non_holiday=data.loc[data['Holiday_Flag']==0]\n",
        "non_holiday.head()"
      ],
      "execution_count": 25,
      "outputs": [
        {
          "output_type": "execute_result",
          "data": {
            "text/html": [
              "<div>\n",
              "<style scoped>\n",
              "    .dataframe tbody tr th:only-of-type {\n",
              "        vertical-align: middle;\n",
              "    }\n",
              "\n",
              "    .dataframe tbody tr th {\n",
              "        vertical-align: top;\n",
              "    }\n",
              "\n",
              "    .dataframe thead th {\n",
              "        text-align: right;\n",
              "    }\n",
              "</style>\n",
              "<table border=\"1\" class=\"dataframe\">\n",
              "  <thead>\n",
              "    <tr style=\"text-align: right;\">\n",
              "      <th></th>\n",
              "      <th>Store</th>\n",
              "      <th>Date</th>\n",
              "      <th>Weekly_Sales</th>\n",
              "      <th>Holiday_Flag</th>\n",
              "      <th>Temperature</th>\n",
              "      <th>Fuel_Price</th>\n",
              "      <th>CPI</th>\n",
              "      <th>Unemployment</th>\n",
              "    </tr>\n",
              "  </thead>\n",
              "  <tbody>\n",
              "    <tr>\n",
              "      <th>0</th>\n",
              "      <td>1</td>\n",
              "      <td>2010-05-02</td>\n",
              "      <td>1643690.90</td>\n",
              "      <td>0</td>\n",
              "      <td>42.31</td>\n",
              "      <td>2.572</td>\n",
              "      <td>211.096358</td>\n",
              "      <td>8.106</td>\n",
              "    </tr>\n",
              "    <tr>\n",
              "      <th>2</th>\n",
              "      <td>1</td>\n",
              "      <td>2010-02-19</td>\n",
              "      <td>1611968.17</td>\n",
              "      <td>0</td>\n",
              "      <td>39.93</td>\n",
              "      <td>2.514</td>\n",
              "      <td>211.289143</td>\n",
              "      <td>8.106</td>\n",
              "    </tr>\n",
              "    <tr>\n",
              "      <th>3</th>\n",
              "      <td>1</td>\n",
              "      <td>2010-02-26</td>\n",
              "      <td>1409727.59</td>\n",
              "      <td>0</td>\n",
              "      <td>46.63</td>\n",
              "      <td>2.561</td>\n",
              "      <td>211.319643</td>\n",
              "      <td>8.106</td>\n",
              "    </tr>\n",
              "    <tr>\n",
              "      <th>4</th>\n",
              "      <td>1</td>\n",
              "      <td>2010-05-03</td>\n",
              "      <td>1554806.68</td>\n",
              "      <td>0</td>\n",
              "      <td>46.50</td>\n",
              "      <td>2.625</td>\n",
              "      <td>211.350143</td>\n",
              "      <td>8.106</td>\n",
              "    </tr>\n",
              "    <tr>\n",
              "      <th>5</th>\n",
              "      <td>1</td>\n",
              "      <td>2010-12-03</td>\n",
              "      <td>1439541.59</td>\n",
              "      <td>0</td>\n",
              "      <td>57.79</td>\n",
              "      <td>2.667</td>\n",
              "      <td>211.380643</td>\n",
              "      <td>8.106</td>\n",
              "    </tr>\n",
              "  </tbody>\n",
              "</table>\n",
              "</div>"
            ],
            "text/plain": [
              "   Store       Date  Weekly_Sales  ...  Fuel_Price         CPI  Unemployment\n",
              "0      1 2010-05-02    1643690.90  ...       2.572  211.096358         8.106\n",
              "2      1 2010-02-19    1611968.17  ...       2.514  211.289143         8.106\n",
              "3      1 2010-02-26    1409727.59  ...       2.561  211.319643         8.106\n",
              "4      1 2010-05-03    1554806.68  ...       2.625  211.350143         8.106\n",
              "5      1 2010-12-03    1439541.59  ...       2.667  211.380643         8.106\n",
              "\n",
              "[5 rows x 8 columns]"
            ]
          },
          "metadata": {},
          "execution_count": 25
        }
      ]
    },
    {
      "cell_type": "markdown",
      "metadata": {
        "id": "TZgewclpK0_h"
      },
      "source": [
        "###Some holidays have a negative impact on sales. Find out holidays which have higher sales than the mean sales in non-holiday season for all stores together\n",
        "\n"
      ]
    },
    {
      "cell_type": "code",
      "metadata": {
        "id": "r7JLnOvlEX7q"
      },
      "source": [
        "A=non_holiday.Weekly_Sales.mean()"
      ],
      "execution_count": 26,
      "outputs": []
    },
    {
      "cell_type": "code",
      "metadata": {
        "colab": {
          "base_uri": "https://localhost:8080/",
          "height": 417
        },
        "id": "jV1Q-V7Gfvt-",
        "outputId": "87ca80b9-5ba2-4f54-ddd1-a392594e16f6"
      },
      "source": [
        "\n",
        "non_holidayweek_sale_mean=non_holiday.groupby(\"Date\").agg({\"Weekly_Sales\":'mean'}).reset_index()\n",
        "non_holidayweek_sale_mean"
      ],
      "execution_count": 27,
      "outputs": [
        {
          "output_type": "execute_result",
          "data": {
            "text/html": [
              "<div>\n",
              "<style scoped>\n",
              "    .dataframe tbody tr th:only-of-type {\n",
              "        vertical-align: middle;\n",
              "    }\n",
              "\n",
              "    .dataframe tbody tr th {\n",
              "        vertical-align: top;\n",
              "    }\n",
              "\n",
              "    .dataframe thead th {\n",
              "        text-align: right;\n",
              "    }\n",
              "</style>\n",
              "<table border=\"1\" class=\"dataframe\">\n",
              "  <thead>\n",
              "    <tr style=\"text-align: right;\">\n",
              "      <th></th>\n",
              "      <th>Date</th>\n",
              "      <th>Weekly_Sales</th>\n",
              "    </tr>\n",
              "  </thead>\n",
              "  <tbody>\n",
              "    <tr>\n",
              "      <th>0</th>\n",
              "      <td>2010-01-10</td>\n",
              "      <td>9.386639e+05</td>\n",
              "    </tr>\n",
              "    <tr>\n",
              "      <th>1</th>\n",
              "      <td>2010-02-04</td>\n",
              "      <td>1.120530e+06</td>\n",
              "    </tr>\n",
              "    <tr>\n",
              "      <th>2</th>\n",
              "      <td>2010-02-07</td>\n",
              "      <td>1.087055e+06</td>\n",
              "    </tr>\n",
              "    <tr>\n",
              "      <th>3</th>\n",
              "      <td>2010-02-19</td>\n",
              "      <td>1.072822e+06</td>\n",
              "    </tr>\n",
              "    <tr>\n",
              "      <th>4</th>\n",
              "      <td>2010-02-26</td>\n",
              "      <td>9.770794e+05</td>\n",
              "    </tr>\n",
              "    <tr>\n",
              "      <th>...</th>\n",
              "      <td>...</td>\n",
              "      <td>...</td>\n",
              "    </tr>\n",
              "    <tr>\n",
              "      <th>128</th>\n",
              "      <td>2012-10-08</td>\n",
              "      <td>1.053410e+06</td>\n",
              "    </tr>\n",
              "    <tr>\n",
              "      <th>129</th>\n",
              "      <td>2012-10-19</td>\n",
              "      <td>1.002720e+06</td>\n",
              "    </tr>\n",
              "    <tr>\n",
              "      <th>130</th>\n",
              "      <td>2012-10-26</td>\n",
              "      <td>1.012091e+06</td>\n",
              "    </tr>\n",
              "    <tr>\n",
              "      <th>131</th>\n",
              "      <td>2012-11-05</td>\n",
              "      <td>1.042797e+06</td>\n",
              "    </tr>\n",
              "    <tr>\n",
              "      <th>132</th>\n",
              "      <td>2012-12-10</td>\n",
              "      <td>1.025078e+06</td>\n",
              "    </tr>\n",
              "  </tbody>\n",
              "</table>\n",
              "<p>133 rows × 2 columns</p>\n",
              "</div>"
            ],
            "text/plain": [
              "          Date  Weekly_Sales\n",
              "0   2010-01-10  9.386639e+05\n",
              "1   2010-02-04  1.120530e+06\n",
              "2   2010-02-07  1.087055e+06\n",
              "3   2010-02-19  1.072822e+06\n",
              "4   2010-02-26  9.770794e+05\n",
              "..         ...           ...\n",
              "128 2012-10-08  1.053410e+06\n",
              "129 2012-10-19  1.002720e+06\n",
              "130 2012-10-26  1.012091e+06\n",
              "131 2012-11-05  1.042797e+06\n",
              "132 2012-12-10  1.025078e+06\n",
              "\n",
              "[133 rows x 2 columns]"
            ]
          },
          "metadata": {},
          "execution_count": 27
        }
      ]
    },
    {
      "cell_type": "code",
      "metadata": {
        "id": "_41PDvagHbHJ"
      },
      "source": [
        "holiday_sale_total=holiday_sale.groupby('Date').agg({\"Weekly_Sales\":'mean'}).reset_index()"
      ],
      "execution_count": 28,
      "outputs": []
    },
    {
      "cell_type": "code",
      "metadata": {
        "colab": {
          "base_uri": "https://localhost:8080/",
          "height": 357
        },
        "id": "6crl8Y5hIKnL",
        "outputId": "e96a6c75-7ab5-4fe2-b83e-cf8c0329aa4b"
      },
      "source": [
        "holiday_sale_total"
      ],
      "execution_count": 29,
      "outputs": [
        {
          "output_type": "execute_result",
          "data": {
            "text/html": [
              "<div>\n",
              "<style scoped>\n",
              "    .dataframe tbody tr th:only-of-type {\n",
              "        vertical-align: middle;\n",
              "    }\n",
              "\n",
              "    .dataframe tbody tr th {\n",
              "        vertical-align: top;\n",
              "    }\n",
              "\n",
              "    .dataframe thead th {\n",
              "        text-align: right;\n",
              "    }\n",
              "</style>\n",
              "<table border=\"1\" class=\"dataframe\">\n",
              "  <thead>\n",
              "    <tr style=\"text-align: right;\">\n",
              "      <th></th>\n",
              "      <th>Date</th>\n",
              "      <th>Weekly_Sales</th>\n",
              "    </tr>\n",
              "  </thead>\n",
              "  <tbody>\n",
              "    <tr>\n",
              "      <th>0</th>\n",
              "      <td>2010-10-09</td>\n",
              "      <td>1.014098e+06</td>\n",
              "    </tr>\n",
              "    <tr>\n",
              "      <th>1</th>\n",
              "      <td>2010-11-26</td>\n",
              "      <td>1.462689e+06</td>\n",
              "    </tr>\n",
              "    <tr>\n",
              "      <th>2</th>\n",
              "      <td>2010-12-02</td>\n",
              "      <td>1.074148e+06</td>\n",
              "    </tr>\n",
              "    <tr>\n",
              "      <th>3</th>\n",
              "      <td>2010-12-31</td>\n",
              "      <td>8.985004e+05</td>\n",
              "    </tr>\n",
              "    <tr>\n",
              "      <th>4</th>\n",
              "      <td>2011-09-09</td>\n",
              "      <td>1.039183e+06</td>\n",
              "    </tr>\n",
              "    <tr>\n",
              "      <th>5</th>\n",
              "      <td>2011-11-02</td>\n",
              "      <td>1.051915e+06</td>\n",
              "    </tr>\n",
              "    <tr>\n",
              "      <th>6</th>\n",
              "      <td>2011-11-25</td>\n",
              "      <td>1.479858e+06</td>\n",
              "    </tr>\n",
              "    <tr>\n",
              "      <th>7</th>\n",
              "      <td>2011-12-30</td>\n",
              "      <td>1.023166e+06</td>\n",
              "    </tr>\n",
              "    <tr>\n",
              "      <th>8</th>\n",
              "      <td>2012-07-09</td>\n",
              "      <td>1.074001e+06</td>\n",
              "    </tr>\n",
              "    <tr>\n",
              "      <th>9</th>\n",
              "      <td>2012-10-02</td>\n",
              "      <td>1.111320e+06</td>\n",
              "    </tr>\n",
              "  </tbody>\n",
              "</table>\n",
              "</div>"
            ],
            "text/plain": [
              "        Date  Weekly_Sales\n",
              "0 2010-10-09  1.014098e+06\n",
              "1 2010-11-26  1.462689e+06\n",
              "2 2010-12-02  1.074148e+06\n",
              "3 2010-12-31  8.985004e+05\n",
              "4 2011-09-09  1.039183e+06\n",
              "5 2011-11-02  1.051915e+06\n",
              "6 2011-11-25  1.479858e+06\n",
              "7 2011-12-30  1.023166e+06\n",
              "8 2012-07-09  1.074001e+06\n",
              "9 2012-10-02  1.111320e+06"
            ]
          },
          "metadata": {},
          "execution_count": 29
        }
      ]
    },
    {
      "cell_type": "code",
      "metadata": {
        "colab": {
          "base_uri": "https://localhost:8080/"
        },
        "id": "fBBkEBtPIT2D",
        "outputId": "08c30d8d-6539-40e9-d045-2ecd01115390"
      },
      "source": [
        "\n",
        "for X in holiday_sale_total.itertuples():\n",
        "    for X1 in non_holidayweek_sale_mean.itertuples():\n",
        "        if X.Weekly_Sales > X1.Weekly_Sales:\n",
        "            print(\"On Date {} , Holiday sales are greater than Non_Holiday_mean_sales and the sales:- {}\"\n",
        "                  .format(X.Date,X.Weekly_Sales))\n",
        "            break;"
      ],
      "execution_count": 30,
      "outputs": [
        {
          "output_type": "stream",
          "name": "stdout",
          "text": [
            "On Date 2010-10-09 00:00:00 , Holiday sales are greater than Non_Holiday_mean_sales and the sales:- 1014097.7297777778\n",
            "On Date 2010-11-26 00:00:00 , Holiday sales are greater than Non_Holiday_mean_sales and the sales:- 1462688.9608888887\n",
            "On Date 2010-12-02 00:00:00 , Holiday sales are greater than Non_Holiday_mean_sales and the sales:- 1074148.3917777783\n",
            "On Date 2010-12-31 00:00:00 , Holiday sales are greater than Non_Holiday_mean_sales and the sales:- 898500.4222222222\n",
            "On Date 2011-09-09 00:00:00 , Holiday sales are greater than Non_Holiday_mean_sales and the sales:- 1039182.8339999999\n",
            "On Date 2011-11-02 00:00:00 , Holiday sales are greater than Non_Holiday_mean_sales and the sales:- 1051915.3953333339\n",
            "On Date 2011-11-25 00:00:00 , Holiday sales are greater than Non_Holiday_mean_sales and the sales:- 1479857.8946666664\n",
            "On Date 2011-12-30 00:00:00 , Holiday sales are greater than Non_Holiday_mean_sales and the sales:- 1023165.800888889\n",
            "On Date 2012-07-09 00:00:00 , Holiday sales are greater than Non_Holiday_mean_sales and the sales:- 1074001.318\n",
            "On Date 2012-10-02 00:00:00 , Holiday sales are greater than Non_Holiday_mean_sales and the sales:- 1111320.176\n"
          ]
        }
      ]
    },
    {
      "cell_type": "code",
      "metadata": {
        "id": "AprRR4oBJDgG"
      },
      "source": [
        " "
      ],
      "execution_count": 30,
      "outputs": []
    },
    {
      "cell_type": "markdown",
      "metadata": {
        "id": "ReBOrl_pLovn"
      },
      "source": [
        "###Provide a monthly and semester view of sales in units and give insights"
      ]
    },
    {
      "cell_type": "code",
      "metadata": {
        "id": "NcbBva9zLqqq"
      },
      "source": [
        "data[\"Year\"]= pd.DatetimeIndex(data['Date']).year\n",
        "data[\"Month\"]= pd.DatetimeIndex(data['Date']).month"
      ],
      "execution_count": 31,
      "outputs": []
    },
    {
      "cell_type": "code",
      "metadata": {
        "colab": {
          "base_uri": "https://localhost:8080/",
          "height": 203
        },
        "id": "weXZou6VXvpm",
        "outputId": "f2e3dbf3-d240-417c-f72c-606b99716537"
      },
      "source": [
        "data.head()"
      ],
      "execution_count": 32,
      "outputs": [
        {
          "output_type": "execute_result",
          "data": {
            "text/html": [
              "<div>\n",
              "<style scoped>\n",
              "    .dataframe tbody tr th:only-of-type {\n",
              "        vertical-align: middle;\n",
              "    }\n",
              "\n",
              "    .dataframe tbody tr th {\n",
              "        vertical-align: top;\n",
              "    }\n",
              "\n",
              "    .dataframe thead th {\n",
              "        text-align: right;\n",
              "    }\n",
              "</style>\n",
              "<table border=\"1\" class=\"dataframe\">\n",
              "  <thead>\n",
              "    <tr style=\"text-align: right;\">\n",
              "      <th></th>\n",
              "      <th>Store</th>\n",
              "      <th>Date</th>\n",
              "      <th>Weekly_Sales</th>\n",
              "      <th>Holiday_Flag</th>\n",
              "      <th>Temperature</th>\n",
              "      <th>Fuel_Price</th>\n",
              "      <th>CPI</th>\n",
              "      <th>Unemployment</th>\n",
              "      <th>Year</th>\n",
              "      <th>Month</th>\n",
              "    </tr>\n",
              "  </thead>\n",
              "  <tbody>\n",
              "    <tr>\n",
              "      <th>0</th>\n",
              "      <td>1</td>\n",
              "      <td>2010-05-02</td>\n",
              "      <td>1643690.90</td>\n",
              "      <td>0</td>\n",
              "      <td>42.31</td>\n",
              "      <td>2.572</td>\n",
              "      <td>211.096358</td>\n",
              "      <td>8.106</td>\n",
              "      <td>2010</td>\n",
              "      <td>5</td>\n",
              "    </tr>\n",
              "    <tr>\n",
              "      <th>1</th>\n",
              "      <td>1</td>\n",
              "      <td>2010-12-02</td>\n",
              "      <td>1641957.44</td>\n",
              "      <td>1</td>\n",
              "      <td>38.51</td>\n",
              "      <td>2.548</td>\n",
              "      <td>211.242170</td>\n",
              "      <td>8.106</td>\n",
              "      <td>2010</td>\n",
              "      <td>12</td>\n",
              "    </tr>\n",
              "    <tr>\n",
              "      <th>2</th>\n",
              "      <td>1</td>\n",
              "      <td>2010-02-19</td>\n",
              "      <td>1611968.17</td>\n",
              "      <td>0</td>\n",
              "      <td>39.93</td>\n",
              "      <td>2.514</td>\n",
              "      <td>211.289143</td>\n",
              "      <td>8.106</td>\n",
              "      <td>2010</td>\n",
              "      <td>2</td>\n",
              "    </tr>\n",
              "    <tr>\n",
              "      <th>3</th>\n",
              "      <td>1</td>\n",
              "      <td>2010-02-26</td>\n",
              "      <td>1409727.59</td>\n",
              "      <td>0</td>\n",
              "      <td>46.63</td>\n",
              "      <td>2.561</td>\n",
              "      <td>211.319643</td>\n",
              "      <td>8.106</td>\n",
              "      <td>2010</td>\n",
              "      <td>2</td>\n",
              "    </tr>\n",
              "    <tr>\n",
              "      <th>4</th>\n",
              "      <td>1</td>\n",
              "      <td>2010-05-03</td>\n",
              "      <td>1554806.68</td>\n",
              "      <td>0</td>\n",
              "      <td>46.50</td>\n",
              "      <td>2.625</td>\n",
              "      <td>211.350143</td>\n",
              "      <td>8.106</td>\n",
              "      <td>2010</td>\n",
              "      <td>5</td>\n",
              "    </tr>\n",
              "  </tbody>\n",
              "</table>\n",
              "</div>"
            ],
            "text/plain": [
              "   Store       Date  Weekly_Sales  ...  Unemployment  Year  Month\n",
              "0      1 2010-05-02    1643690.90  ...         8.106  2010      5\n",
              "1      1 2010-12-02    1641957.44  ...         8.106  2010     12\n",
              "2      1 2010-02-19    1611968.17  ...         8.106  2010      2\n",
              "3      1 2010-02-26    1409727.59  ...         8.106  2010      2\n",
              "4      1 2010-05-03    1554806.68  ...         8.106  2010      5\n",
              "\n",
              "[5 rows x 10 columns]"
            ]
          },
          "metadata": {},
          "execution_count": 32
        }
      ]
    },
    {
      "cell_type": "markdown",
      "metadata": {
        "id": "OALis_nga_YM"
      },
      "source": [
        " **month wise analisis**"
      ]
    },
    {
      "cell_type": "code",
      "metadata": {
        "id": "klKXUKpEXyEF"
      },
      "source": [
        "data_2010=data.loc[data['Year']==2010]\n",
        "data_2011=data.loc[data['Year']==2011]\n",
        "data_2012=data.loc[data['Year']==2012]"
      ],
      "execution_count": 33,
      "outputs": []
    },
    {
      "cell_type": "code",
      "metadata": {
        "id": "g1PRUtNfXeFH"
      },
      "source": [
        ""
      ],
      "execution_count": 33,
      "outputs": []
    },
    {
      "cell_type": "code",
      "metadata": {
        "colab": {
          "base_uri": "https://localhost:8080/",
          "height": 479
        },
        "id": "C5YtrDLJO9SI",
        "outputId": "dc24153f-0ea5-4321-d7da-006c0bf71d07"
      },
      "source": [
        "plt.style.use(\"ggplot\")\n",
        "plt.figure(figsize=(10,7) )\n",
        "plt.scatter(data_2010[\"Month\"],data_2010[\"Weekly_Sales\"] )\n",
        "plt.xlabel(\"Month\")\n",
        "plt.ylabel(\"Weekly_Sales\")\n",
        "plt.title(\"Monthly view of sales in 2010\")"
      ],
      "execution_count": 34,
      "outputs": [
        {
          "output_type": "execute_result",
          "data": {
            "text/plain": [
              "Text(0.5, 1.0, 'Monthly view of sales in 2010')"
            ]
          },
          "metadata": {},
          "execution_count": 34
        },
        {
          "output_type": "display_data",
          "data": {
            "image/png": "[encoded data removed]",
            "text/plain": [
              "<Figure size 720x504 with 1 Axes>"
            ]
          },
          "metadata": {}
        }
      ]
    },
    {
      "cell_type": "code",
      "metadata": {
        "colab": {
          "base_uri": "https://localhost:8080/",
          "height": 479
        },
        "id": "hlCCH0StQdON",
        "outputId": "8ccdbc56-492c-44cf-8791-ec2370f894e2"
      },
      "source": [
        "plt.style.use(\"ggplot\")\n",
        "plt.figure(figsize=(10,7))\n",
        "plt.scatter(data_2011[\"Month\"],data_2011[\"Weekly_Sales\"])\n",
        "plt.xlabel(\"Month\")\n",
        "plt.ylabel(\"Weekly_Sales\")\n",
        "plt.title(\"Monthly view of sales in 2010\")"
      ],
      "execution_count": 35,
      "outputs": [
        {
          "output_type": "execute_result",
          "data": {
            "text/plain": [
              "Text(0.5, 1.0, 'Monthly view of sales in 2010')"
            ]
          },
          "metadata": {},
          "execution_count": 35
        },
        {
          "output_type": "display_data",
          "data": {
            "image/png": "[encoded data removed]",
            "text/plain": [
              "<Figure size 720x504 with 1 Axes>"
            ]
          },
          "metadata": {}
        }
      ]
    },
    {
      "cell_type": "code",
      "metadata": {
        "colab": {
          "base_uri": "https://localhost:8080/",
          "height": 479
        },
        "id": "cAapQX2OUq8M",
        "outputId": "17d4755a-ade5-42bc-f22f-f20a2021f696"
      },
      "source": [
        "plt.style.use(\"ggplot\")\n",
        "plt.figure(figsize=(10,7))\n",
        "plt.scatter(data_2012[\"Month\"],data_2012[\"Weekly_Sales\"])\n",
        "plt.xlabel(\"Month\")\n",
        "plt.ylabel(\"Weekly_Sales\")\n",
        "plt.title(\"Monthly view of sales in 2010\")"
      ],
      "execution_count": 36,
      "outputs": [
        {
          "output_type": "execute_result",
          "data": {
            "text/plain": [
              "Text(0.5, 1.0, 'Monthly view of sales in 2010')"
            ]
          },
          "metadata": {},
          "execution_count": 36
        },
        {
          "output_type": "display_data",
          "data": {
            "image/png": "[encoded data removed]",
            "text/plain": [
              "<Figure size 720x504 with 1 Axes>"
            ]
          },
          "metadata": {}
        }
      ]
    },
    {
      "cell_type": "markdown",
      "metadata": {
        "id": "Yh4IHQwAbHSD"
      },
      "source": [
        "**semester wise analisis**"
      ]
    },
    {
      "cell_type": "code",
      "metadata": {
        "id": "tfpMf7wBUoCs"
      },
      "source": [
        "semester_sales=[]\n",
        "semester_sales.append(data_2010.loc[data_2010[\"Month\"]<7,[\"Weekly_Sales\"]].sum())\n",
        "semester_sales.append(data_2010.loc[data_2010[\"Month\"]>6,[\"Weekly_Sales\"]].sum())\n",
        "semester_sales.append(data_2011.loc[data_2011[\"Month\"]<7,[\"Weekly_Sales\"]].sum())\n",
        "semester_sales.append(data_2011.loc[data_2011[\"Month\"]>6,[\"Weekly_Sales\"]].sum())\n",
        "semester_sales.append(data_2012.loc[data_2012[\"Month\"]<7,[\"Weekly_Sales\"]].sum())\n",
        "semester_sales.append(data_2012.loc[data_2012[\"Month\"]>6,[\"Weekly_Sales\"]].sum())"
      ],
      "execution_count": 37,
      "outputs": []
    },
    {
      "cell_type": "code",
      "metadata": {
        "colab": {
          "base_uri": "https://localhost:8080/"
        },
        "id": "0upEVr3BX2D3",
        "outputId": "4481398e-1cad-490f-ff4a-9d20d3eccd8c"
      },
      "source": [
        "semester_sales"
      ],
      "execution_count": 38,
      "outputs": [
        {
          "output_type": "execute_result",
          "data": {
            "text/plain": [
              "[Weekly_Sales    1.026913e+09\n",
              " dtype: float64, Weekly_Sales    1.261973e+09\n",
              " dtype: float64, Weekly_Sales    1.138060e+09\n",
              " dtype: float64, Weekly_Sales    1.310140e+09\n",
              " dtype: float64, Weekly_Sales    1.163004e+09\n",
              " dtype: float64, Weekly_Sales    8.371288e+08\n",
              " dtype: float64]"
            ]
          },
          "metadata": {},
          "execution_count": 38
        }
      ]
    },
    {
      "cell_type": "code",
      "metadata": {
        "id": "hY59A98KX5lm"
      },
      "source": [
        "sem_name=[\"1st_sem_2010\",'2nd_sem_2010','1sem_2011','2ndsem_2011','1sem_2012','2ndsem_2012']"
      ],
      "execution_count": 39,
      "outputs": []
    },
    {
      "cell_type": "code",
      "metadata": {
        "colab": {
          "base_uri": "https://localhost:8080/",
          "height": 426
        },
        "id": "9d6CYxg_ZhLx",
        "outputId": "863e37e5-9e89-4289-8efc-0477212710e1"
      },
      "source": [
        "\n",
        "plt.figure(figsize=(10,6))\n",
        "plt.plot(sem_name,semester_sales)\n",
        "plt.xlabel(\"Semesters\")\n",
        "plt.ylabel(\"Semester Sales\")\n",
        "plt.title(\"Semester view of sales\")"
      ],
      "execution_count": 40,
      "outputs": [
        {
          "output_type": "execute_result",
          "data": {
            "text/plain": [
              "Text(0.5, 1.0, 'Semester view of sales')"
            ]
          },
          "metadata": {},
          "execution_count": 40
        },
        {
          "output_type": "display_data",
          "data": {
            "image/png": "[encoded data removed]",
            "text/plain": [
              "<Figure size 720x432 with 1 Axes>"
            ]
          },
          "metadata": {}
        }
      ]
    },
    {
      "cell_type": "code",
      "metadata": {
        "id": "r0TqWJydagcs"
      },
      "source": [
        "#Restructure dates as 1 for 5 Feb 2010 (starting from the earliest date in order)"
      ],
      "execution_count": 41,
      "outputs": []
    },
    {
      "cell_type": "code",
      "metadata": {
        "colab": {
          "base_uri": "https://localhost:8080/",
          "height": 417
        },
        "id": "zfahJ3yHrCA_",
        "outputId": "526dcea1-ba6c-4753-8e25-ddd04fefb9c0"
      },
      "source": [
        "x_object1=data[data['Store'] == 1][['Store','Date']]\n",
        "x_object1"
      ],
      "execution_count": 42,
      "outputs": [
        {
          "output_type": "execute_result",
          "data": {
            "text/html": [
              "<div>\n",
              "<style scoped>\n",
              "    .dataframe tbody tr th:only-of-type {\n",
              "        vertical-align: middle;\n",
              "    }\n",
              "\n",
              "    .dataframe tbody tr th {\n",
              "        vertical-align: top;\n",
              "    }\n",
              "\n",
              "    .dataframe thead th {\n",
              "        text-align: right;\n",
              "    }\n",
              "</style>\n",
              "<table border=\"1\" class=\"dataframe\">\n",
              "  <thead>\n",
              "    <tr style=\"text-align: right;\">\n",
              "      <th></th>\n",
              "      <th>Store</th>\n",
              "      <th>Date</th>\n",
              "    </tr>\n",
              "  </thead>\n",
              "  <tbody>\n",
              "    <tr>\n",
              "      <th>0</th>\n",
              "      <td>1</td>\n",
              "      <td>2010-05-02</td>\n",
              "    </tr>\n",
              "    <tr>\n",
              "      <th>1</th>\n",
              "      <td>1</td>\n",
              "      <td>2010-12-02</td>\n",
              "    </tr>\n",
              "    <tr>\n",
              "      <th>2</th>\n",
              "      <td>1</td>\n",
              "      <td>2010-02-19</td>\n",
              "    </tr>\n",
              "    <tr>\n",
              "      <th>3</th>\n",
              "      <td>1</td>\n",
              "      <td>2010-02-26</td>\n",
              "    </tr>\n",
              "    <tr>\n",
              "      <th>4</th>\n",
              "      <td>1</td>\n",
              "      <td>2010-05-03</td>\n",
              "    </tr>\n",
              "    <tr>\n",
              "      <th>...</th>\n",
              "      <td>...</td>\n",
              "      <td>...</td>\n",
              "    </tr>\n",
              "    <tr>\n",
              "      <th>138</th>\n",
              "      <td>1</td>\n",
              "      <td>2012-09-28</td>\n",
              "    </tr>\n",
              "    <tr>\n",
              "      <th>139</th>\n",
              "      <td>1</td>\n",
              "      <td>2012-05-10</td>\n",
              "    </tr>\n",
              "    <tr>\n",
              "      <th>140</th>\n",
              "      <td>1</td>\n",
              "      <td>2012-12-10</td>\n",
              "    </tr>\n",
              "    <tr>\n",
              "      <th>141</th>\n",
              "      <td>1</td>\n",
              "      <td>2012-10-19</td>\n",
              "    </tr>\n",
              "    <tr>\n",
              "      <th>142</th>\n",
              "      <td>1</td>\n",
              "      <td>2012-10-26</td>\n",
              "    </tr>\n",
              "  </tbody>\n",
              "</table>\n",
              "<p>143 rows × 2 columns</p>\n",
              "</div>"
            ],
            "text/plain": [
              "     Store       Date\n",
              "0        1 2010-05-02\n",
              "1        1 2010-12-02\n",
              "2        1 2010-02-19\n",
              "3        1 2010-02-26\n",
              "4        1 2010-05-03\n",
              "..     ...        ...\n",
              "138      1 2012-09-28\n",
              "139      1 2012-05-10\n",
              "140      1 2012-12-10\n",
              "141      1 2012-10-19\n",
              "142      1 2012-10-26\n",
              "\n",
              "[143 rows x 2 columns]"
            ]
          },
          "metadata": {},
          "execution_count": 42
        }
      ]
    },
    {
      "cell_type": "markdown",
      "metadata": {
        "id": "Nq3o2M7adEDN"
      },
      "source": [
        "# Statistical Model\n",
        "\n",
        "### For Store 1 – Build  prediction models to forecast demand\n",
        "\n",
        "### Hypothesize if CPI, unemployment, and fuel price have any impact on sales."
      ]
    },
    {
      "cell_type": "code",
      "metadata": {
        "colab": {
          "base_uri": "https://localhost:8080/"
        },
        "id": "8wwUi8zIYcew",
        "outputId": "215b4b83-e44a-4195-9dae-1d545c24ab66"
      },
      "source": [
        "X_feature=data.drop([\"Weekly_Sales\",\"Holiday_Flag\",\"Date\",\"Year\",\"Month\",\"Unemployment\"],axis=1)\n",
        "X_feature=X_feature[X_feature[\"Store\"]==1]\n",
        "Y_target=data[data['Store']==1][\"Weekly_Sales\"]\n",
        "print (X_feature)\n",
        "print (Y_target)"
      ],
      "execution_count": 43,
      "outputs": [
        {
          "output_type": "stream",
          "name": "stdout",
          "text": [
            "     Store  Temperature  Fuel_Price         CPI\n",
            "0        1        42.31       2.572  211.096358\n",
            "1        1        38.51       2.548  211.242170\n",
            "2        1        39.93       2.514  211.289143\n",
            "3        1        46.63       2.561  211.319643\n",
            "4        1        46.50       2.625  211.350143\n",
            "..     ...          ...         ...         ...\n",
            "138      1        76.08       3.666  222.981658\n",
            "139      1        68.55       3.617  223.181477\n",
            "140      1        62.99       3.601  223.381296\n",
            "141      1        67.97       3.594  223.425723\n",
            "142      1        69.16       3.506  223.444251\n",
            "\n",
            "[143 rows x 4 columns]\n",
            "0      1643690.90\n",
            "1      1641957.44\n",
            "2      1611968.17\n",
            "3      1409727.59\n",
            "4      1554806.68\n",
            "          ...    \n",
            "138    1437059.26\n",
            "139    1670785.97\n",
            "140    1573072.81\n",
            "141    1508068.77\n",
            "142    1493659.74\n",
            "Name: Weekly_Sales, Length: 143, dtype: float64\n"
          ]
        }
      ]
    },
    {
      "cell_type": "code",
      "metadata": {
        "id": "BCPlUGQTdsZp"
      },
      "source": [
        "# Splitting the data into training & testing datasets(75:25)\n",
        "import sklearn\n",
        "from sklearn.model_selection import train_test_split\n",
        "X_train, X_test, Y_train, Y_test = sklearn.model_selection.train_test_split(X_feature,Y_target,test_size=0.25,random_state=0 )"
      ],
      "execution_count": 44,
      "outputs": []
    },
    {
      "cell_type": "code",
      "metadata": {
        "colab": {
          "base_uri": "https://localhost:8080/"
        },
        "id": "qcVpDy_nd0o7",
        "outputId": "046d0d81-c9d5-47a6-8204-8ba7f5a9d2db"
      },
      "source": [
        "print (X_train.shape)\n",
        "print (Y_train.shape)"
      ],
      "execution_count": 45,
      "outputs": [
        {
          "output_type": "stream",
          "name": "stdout",
          "text": [
            "(107, 4)\n",
            "(107,)\n"
          ]
        }
      ]
    },
    {
      "cell_type": "code",
      "metadata": {
        "colab": {
          "base_uri": "https://localhost:8080/"
        },
        "id": "kkLvVujqd6jP",
        "outputId": "80e91c7e-5680-4403-ce23-f911731eba5c"
      },
      "source": [
        "print (X_test.shape)\n",
        "print (Y_test.shape)"
      ],
      "execution_count": 46,
      "outputs": [
        {
          "output_type": "stream",
          "name": "stdout",
          "text": [
            "(36, 4)\n",
            "(36,)\n"
          ]
        }
      ]
    },
    {
      "cell_type": "code",
      "metadata": {
        "id": "T1bvlBH-eAQE"
      },
      "source": [
        "#import linear model\n",
        "from sklearn.linear_model import LinearRegression\n",
        "#creating instance of the class also called estimator\n",
        "linreg = LinearRegression(normalize=True,n_jobs=-1)"
      ],
      "execution_count": 47,
      "outputs": []
    },
    {
      "cell_type": "code",
      "metadata": {
        "id": "b7MAU59LMQvu"
      },
      "source": [
        "from sklearn.metrics import mean_squared_error"
      ],
      "execution_count": 48,
      "outputs": []
    },
    {
      "cell_type": "code",
      "metadata": {
        "colab": {
          "base_uri": "https://localhost:8080/"
        },
        "id": "EfiMwe54eHP3",
        "outputId": "733ce684-724f-43d3-a5d0-66a9e14c49e1"
      },
      "source": [
        "#fit data into estimator\n",
        "linreg.fit(X_train,Y_train)"
      ],
      "execution_count": 49,
      "outputs": [
        {
          "output_type": "execute_result",
          "data": {
            "text/plain": [
              "LinearRegression(copy_X=True, fit_intercept=True, n_jobs=-1, normalize=True)"
            ]
          },
          "metadata": {},
          "execution_count": 49
        }
      ]
    },
    {
      "cell_type": "code",
      "metadata": {
        "colab": {
          "base_uri": "https://localhost:8080/"
        },
        "id": "f4_irWQKeNRC",
        "outputId": "abd80aa6-6d22-4378-a827-522c6e686cad"
      },
      "source": [
        "print(format(linreg.score(X_test,Y_test)*100))"
      ],
      "execution_count": 50,
      "outputs": [
        {
          "output_type": "stream",
          "name": "stdout",
          "text": [
            "10.418395241957368\n"
          ]
        }
      ]
    },
    {
      "cell_type": "code",
      "metadata": {
        "colab": {
          "base_uri": "https://localhost:8080/"
        },
        "id": "h7_UFj23fIbu",
        "outputId": "4d864f5e-e0ff-465b-e898-44cd7adb8445"
      },
      "source": [
        "linreg.score(X_train,Y_train)*100"
      ],
      "execution_count": 51,
      "outputs": [
        {
          "output_type": "execute_result",
          "data": {
            "text/plain": [
              "7.381662111167087"
            ]
          },
          "metadata": {},
          "execution_count": 51
        }
      ]
    },
    {
      "cell_type": "code",
      "metadata": {
        "colab": {
          "base_uri": "https://localhost:8080/"
        },
        "id": "a6gNtp2MLIO-",
        "outputId": "55b33fdc-c69a-4372-b01a-2a4adf7bb386"
      },
      "source": [
        "\n",
        "print(np.sqrt(mean_squared_error(Y_train,linreg.predict(X_train))))"
      ],
      "execution_count": 52,
      "outputs": [
        {
          "output_type": "stream",
          "name": "stdout",
          "text": [
            "149008.62587628452\n"
          ]
        }
      ]
    },
    {
      "cell_type": "code",
      "metadata": {
        "colab": {
          "base_uri": "https://localhost:8080/"
        },
        "id": "cESneKd7MhWM",
        "outputId": "d861a24e-26df-42a8-8006-5ddbaf3584fa"
      },
      "source": [
        "\n",
        "print(np.sqrt(mean_squared_error(Y_test,linreg.predict(X_test))))"
      ],
      "execution_count": 53,
      "outputs": [
        {
          "output_type": "stream",
          "name": "stdout",
          "text": [
            "141607.41112065336\n"
          ]
        }
      ]
    },
    {
      "cell_type": "code",
      "metadata": {
        "colab": {
          "base_uri": "https://localhost:8080/"
        },
        "id": "Wk5wsUQ2MxI7",
        "outputId": "4230966d-a9e0-4582-d60f-5be44c961ca8"
      },
      "source": [
        "print(linreg.intercept_)\n",
        "print(linreg.coef_)"
      ],
      "execution_count": 54,
      "outputs": [
        {
          "output_type": "stream",
          "name": "stdout",
          "text": [
            "-21211.439679863397\n",
            "[    0.         -2205.21336452 -7800.78291088  8052.94206211]\n"
          ]
        }
      ]
    },
    {
      "cell_type": "code",
      "metadata": {
        "id": "RdBb-HGpm_VL"
      },
      "source": [
        "import seaborn as sns"
      ],
      "execution_count": 55,
      "outputs": []
    },
    {
      "cell_type": "markdown",
      "metadata": {
        "id": "Ax-x9fq02d_q"
      },
      "source": [
        ""
      ]
    },
    {
      "cell_type": "code",
      "metadata": {
        "colab": {
          "base_uri": "https://localhost:8080/"
        },
        "id": "-FBAW54n4_iw",
        "outputId": "2a07198d-74c5-4403-d8a7-ba8b90980ff2"
      },
      "source": [
        "data.columns"
      ],
      "execution_count": 59,
      "outputs": [
        {
          "output_type": "execute_result",
          "data": {
            "text/plain": [
              "Index(['Store', 'Date', 'Weekly_Sales', 'Holiday_Flag', 'Temperature',\n",
              "       'Fuel_Price', 'CPI', 'Unemployment', 'Year', 'Month'],\n",
              "      dtype='object')"
            ]
          },
          "metadata": {},
          "execution_count": 59
        }
      ]
    },
    {
      "cell_type": "code",
      "metadata": {
        "id": "TzXz4SKI5SBw"
      },
      "source": [
        "col=['Weekly_Sales','Fuel_Price', 'CPI', 'Unemployment']"
      ],
      "execution_count": 61,
      "outputs": []
    },
    {
      "cell_type": "code",
      "metadata": {
        "colab": {
          "base_uri": "https://localhost:8080/",
          "height": 270
        },
        "id": "d2W4-z8qv-Lc",
        "outputId": "8993f311-6b32-4e7c-d507-83a31e6cc466"
      },
      "source": [
        "ax=sns.heatmap(data[col].corr())"
      ],
      "execution_count": 66,
      "outputs": [
        {
          "output_type": "display_data",
          "data": {
            "image/png": "[encoded data removed]",
            "text/plain": [
              "<Figure size 432x288 with 2 Axes>"
            ]
          },
          "metadata": {}
        }
      ]
    },
    {
      "cell_type": "markdown",
      "metadata": {
        "id": "Df7Fr7NY95sn"
      },
      "source": [
        "here we can say fuel price has positive impect  on sales and second cpi is also the positive impect on sale but unemployment feture has a negative impect on weekly_sales"
      ]
    },
    {
      "cell_type": "markdown",
      "metadata": {
        "id": "EH9eunx09sQe"
      },
      "source": [
        "##Change dates into days by creating new variable."
      ]
    },
    {
      "cell_type": "code",
      "metadata": {
        "id": "u761fdSm8cxs"
      },
      "source": [
        "data['day']=pd.to_datetime(data['Date']).dt.day_name()"
      ],
      "execution_count": 68,
      "outputs": []
    },
    {
      "cell_type": "code",
      "metadata": {
        "colab": {
          "base_uri": "https://localhost:8080/",
          "height": 417
        },
        "id": "8j_3H3n5_YGI",
        "outputId": "97486572-46f0-4754-a78b-e0b301638479"
      },
      "source": [
        "data"
      ],
      "execution_count": 69,
      "outputs": [
        {
          "output_type": "execute_result",
          "data": {
            "text/html": [
              "<div>\n",
              "<style scoped>\n",
              "    .dataframe tbody tr th:only-of-type {\n",
              "        vertical-align: middle;\n",
              "    }\n",
              "\n",
              "    .dataframe tbody tr th {\n",
              "        vertical-align: top;\n",
              "    }\n",
              "\n",
              "    .dataframe thead th {\n",
              "        text-align: right;\n",
              "    }\n",
              "</style>\n",
              "<table border=\"1\" class=\"dataframe\">\n",
              "  <thead>\n",
              "    <tr style=\"text-align: right;\">\n",
              "      <th></th>\n",
              "      <th>Store</th>\n",
              "      <th>Date</th>\n",
              "      <th>Weekly_Sales</th>\n",
              "      <th>Holiday_Flag</th>\n",
              "      <th>Temperature</th>\n",
              "      <th>Fuel_Price</th>\n",
              "      <th>CPI</th>\n",
              "      <th>Unemployment</th>\n",
              "      <th>Year</th>\n",
              "      <th>Month</th>\n",
              "      <th>day</th>\n",
              "    </tr>\n",
              "  </thead>\n",
              "  <tbody>\n",
              "    <tr>\n",
              "      <th>0</th>\n",
              "      <td>1</td>\n",
              "      <td>2010-05-02</td>\n",
              "      <td>1643690.90</td>\n",
              "      <td>0</td>\n",
              "      <td>42.31</td>\n",
              "      <td>2.572</td>\n",
              "      <td>211.096358</td>\n",
              "      <td>8.106</td>\n",
              "      <td>2010</td>\n",
              "      <td>5</td>\n",
              "      <td>Sunday</td>\n",
              "    </tr>\n",
              "    <tr>\n",
              "      <th>1</th>\n",
              "      <td>1</td>\n",
              "      <td>2010-12-02</td>\n",
              "      <td>1641957.44</td>\n",
              "      <td>1</td>\n",
              "      <td>38.51</td>\n",
              "      <td>2.548</td>\n",
              "      <td>211.242170</td>\n",
              "      <td>8.106</td>\n",
              "      <td>2010</td>\n",
              "      <td>12</td>\n",
              "      <td>Thursday</td>\n",
              "    </tr>\n",
              "    <tr>\n",
              "      <th>2</th>\n",
              "      <td>1</td>\n",
              "      <td>2010-02-19</td>\n",
              "      <td>1611968.17</td>\n",
              "      <td>0</td>\n",
              "      <td>39.93</td>\n",
              "      <td>2.514</td>\n",
              "      <td>211.289143</td>\n",
              "      <td>8.106</td>\n",
              "      <td>2010</td>\n",
              "      <td>2</td>\n",
              "      <td>Friday</td>\n",
              "    </tr>\n",
              "    <tr>\n",
              "      <th>3</th>\n",
              "      <td>1</td>\n",
              "      <td>2010-02-26</td>\n",
              "      <td>1409727.59</td>\n",
              "      <td>0</td>\n",
              "      <td>46.63</td>\n",
              "      <td>2.561</td>\n",
              "      <td>211.319643</td>\n",
              "      <td>8.106</td>\n",
              "      <td>2010</td>\n",
              "      <td>2</td>\n",
              "      <td>Friday</td>\n",
              "    </tr>\n",
              "    <tr>\n",
              "      <th>4</th>\n",
              "      <td>1</td>\n",
              "      <td>2010-05-03</td>\n",
              "      <td>1554806.68</td>\n",
              "      <td>0</td>\n",
              "      <td>46.50</td>\n",
              "      <td>2.625</td>\n",
              "      <td>211.350143</td>\n",
              "      <td>8.106</td>\n",
              "      <td>2010</td>\n",
              "      <td>5</td>\n",
              "      <td>Monday</td>\n",
              "    </tr>\n",
              "    <tr>\n",
              "      <th>...</th>\n",
              "      <td>...</td>\n",
              "      <td>...</td>\n",
              "      <td>...</td>\n",
              "      <td>...</td>\n",
              "      <td>...</td>\n",
              "      <td>...</td>\n",
              "      <td>...</td>\n",
              "      <td>...</td>\n",
              "      <td>...</td>\n",
              "      <td>...</td>\n",
              "      <td>...</td>\n",
              "    </tr>\n",
              "    <tr>\n",
              "      <th>6430</th>\n",
              "      <td>45</td>\n",
              "      <td>2012-09-28</td>\n",
              "      <td>713173.95</td>\n",
              "      <td>0</td>\n",
              "      <td>64.88</td>\n",
              "      <td>3.997</td>\n",
              "      <td>192.013558</td>\n",
              "      <td>8.684</td>\n",
              "      <td>2012</td>\n",
              "      <td>9</td>\n",
              "      <td>Friday</td>\n",
              "    </tr>\n",
              "    <tr>\n",
              "      <th>6431</th>\n",
              "      <td>45</td>\n",
              "      <td>2012-05-10</td>\n",
              "      <td>733455.07</td>\n",
              "      <td>0</td>\n",
              "      <td>64.89</td>\n",
              "      <td>3.985</td>\n",
              "      <td>192.170412</td>\n",
              "      <td>8.667</td>\n",
              "      <td>2012</td>\n",
              "      <td>5</td>\n",
              "      <td>Thursday</td>\n",
              "    </tr>\n",
              "    <tr>\n",
              "      <th>6432</th>\n",
              "      <td>45</td>\n",
              "      <td>2012-12-10</td>\n",
              "      <td>734464.36</td>\n",
              "      <td>0</td>\n",
              "      <td>54.47</td>\n",
              "      <td>4.000</td>\n",
              "      <td>192.327265</td>\n",
              "      <td>8.667</td>\n",
              "      <td>2012</td>\n",
              "      <td>12</td>\n",
              "      <td>Monday</td>\n",
              "    </tr>\n",
              "    <tr>\n",
              "      <th>6433</th>\n",
              "      <td>45</td>\n",
              "      <td>2012-10-19</td>\n",
              "      <td>718125.53</td>\n",
              "      <td>0</td>\n",
              "      <td>56.47</td>\n",
              "      <td>3.969</td>\n",
              "      <td>192.330854</td>\n",
              "      <td>8.667</td>\n",
              "      <td>2012</td>\n",
              "      <td>10</td>\n",
              "      <td>Friday</td>\n",
              "    </tr>\n",
              "    <tr>\n",
              "      <th>6434</th>\n",
              "      <td>45</td>\n",
              "      <td>2012-10-26</td>\n",
              "      <td>760281.43</td>\n",
              "      <td>0</td>\n",
              "      <td>58.85</td>\n",
              "      <td>3.882</td>\n",
              "      <td>192.308899</td>\n",
              "      <td>8.667</td>\n",
              "      <td>2012</td>\n",
              "      <td>10</td>\n",
              "      <td>Friday</td>\n",
              "    </tr>\n",
              "  </tbody>\n",
              "</table>\n",
              "<p>6435 rows × 11 columns</p>\n",
              "</div>"
            ],
            "text/plain": [
              "      Store       Date  Weekly_Sales  ...  Year  Month       day\n",
              "0         1 2010-05-02    1643690.90  ...  2010      5    Sunday\n",
              "1         1 2010-12-02    1641957.44  ...  2010     12  Thursday\n",
              "2         1 2010-02-19    1611968.17  ...  2010      2    Friday\n",
              "3         1 2010-02-26    1409727.59  ...  2010      2    Friday\n",
              "4         1 2010-05-03    1554806.68  ...  2010      5    Monday\n",
              "...     ...        ...           ...  ...   ...    ...       ...\n",
              "6430     45 2012-09-28     713173.95  ...  2012      9    Friday\n",
              "6431     45 2012-05-10     733455.07  ...  2012      5  Thursday\n",
              "6432     45 2012-12-10     734464.36  ...  2012     12    Monday\n",
              "6433     45 2012-10-19     718125.53  ...  2012     10    Friday\n",
              "6434     45 2012-10-26     760281.43  ...  2012     10    Friday\n",
              "\n",
              "[6435 rows x 11 columns]"
            ]
          },
          "metadata": {},
          "execution_count": 69
        }
      ]
    },
    {
      "cell_type": "code",
      "metadata": {
        "id": "ioP_wI6x_Z_z"
      },
      "source": [
        "**********************************************end****************************by anurag bisen "
      ],
      "execution_count": null,
      "outputs": []
    }
  ]
}